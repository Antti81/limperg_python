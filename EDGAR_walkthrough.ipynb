{
 "cells": [
  {
   "cell_type": "markdown",
   "metadata": {
    "colab_type": "text",
    "id": "KSLo3otRtfNt"
   },
   "source": [
    "# Real world example: Full EDGAR walkthrough"
   ]
  },
  {
   "cell_type": "markdown",
   "metadata": {
    "colab_type": "text",
    "id": "HrXei8w_tfNu"
   },
   "source": [
    "**Author:** Ties de Kok ([Personal Website](http://www.tiesdekok.com))  \n",
    "**Last updated:** 7 July 2018  \n",
    "**Python version:** Python 3.6  \n",
    "**License:** MIT License  "
   ]
  },
  {
   "cell_type": "markdown",
   "metadata": {
    "colab_type": "text",
    "id": "6JCMdd-dtfNv"
   },
   "source": [
    "## *Introduction*"
   ]
  },
  {
   "cell_type": "markdown",
   "metadata": {
    "colab_type": "text",
    "id": "tRrfNQNntfNw"
   },
   "source": [
    "A usual project that involves EDGAR data consists of 5 steps:\n",
    "\n",
    "1. Determine URLs   \n",
    "2. Download   \n",
    "3. Prepare   \n",
    "4. Extract relevant sections    \n",
    "5. Perform textual analysis to generate metrics    "
   ]
  },
  {
   "cell_type": "markdown",
   "metadata": {
    "colab_type": "text",
    "id": "6JCMdd-dtfNv"
   },
   "source": [
    "## *Demonstration*"
   ]
  },
  {
   "cell_type": "markdown",
   "metadata": {},
   "source": [
    "Our goal for today is to perform a \"real\" task where we combine everything that we learned in the previous 4 sessions.  \n",
    "\n",
    "### Task: \n",
    "\n",
    "> Generate some NLP metrics for the MD&A sections of 10-K filings by TESLA.   \n",
    "\n",
    "Identifiers for Tesla:  \n",
    "* **CIK:** `0001318605`   \n",
    "* **GVKEY:** `184996`     \n",
    "\n",
    "Link to EDGAR page:  \n",
    "https://www.sec.gov/cgi-bin/browse-edgar?CIK=0001318605&action=getcompany\n",
    "\n"
   ]
  },
  {
   "cell_type": "markdown",
   "metadata": {
    "colab_type": "text",
    "id": "3PsiOafatfNy"
   },
   "source": [
    "### *Relevant notebooks*\n",
    "\n",
    "1. [`0_python_basics.ipynb`](https://nbviewer.jupyter.org/github/TiesdeKok/LearnPythonforResearch/blob/master/0_python_basics.ipynb)\n",
    "1. [`1_opening_files.ipynb`](https://nbviewer.jupyter.org/github/TiesdeKok/LearnPythonforResearch/blob/master/0_python_basics.ipynb)\n",
    "1. [`2_handling data.ipynb`](https://nbviewer.jupyter.org/github/TiesdeKok/LearnPythonforResearch/blob/master/0_python_basics.ipynb)\n",
    "1. [`3_web_scraping.ipynb`](https://nbviewer.jupyter.org/github/TiesdeKok/LearnPythonforResearch/blob/master/0_python_basics.ipynb)\n",
    "1. [`4_NLP_notebook.ipynb`](https://nbviewer.jupyter.org/github/TiesdeKok/LearnPythonforResearch/blob/master/0_python_basics.ipynb)"
   ]
  },
  {
   "cell_type": "markdown",
   "metadata": {
    "colab_type": "text",
    "id": "sFJZfP8RtfN3"
   },
   "source": [
    "## Step 0: preamble <br> ------------------------"
   ]
  },
  {
   "cell_type": "markdown",
   "metadata": {
    "colab_type": "text",
    "id": "AxrZ8EKDtfNy"
   },
   "source": [
    "## Imports"
   ]
  },
  {
   "cell_type": "code",
   "execution_count": 1,
   "metadata": {},
   "outputs": [
    {
     "name": "stdout",
     "output_type": "stream",
     "text": [
      "Populating the interactive namespace from numpy and matplotlib\n"
     ]
    }
   ],
   "source": [
    "%pylab inline"
   ]
  },
  {
   "cell_type": "code",
   "execution_count": 2,
   "metadata": {
    "colab": {
     "autoexec": {
      "startup": false,
      "wait_interval": 0
     }
    },
    "colab_type": "code",
    "id": "UMX6iPhbtfNz"
   },
   "outputs": [],
   "source": [
    "## Standard\n",
    "import os, re, sys, time\n",
    "\n",
    "## Data handling\n",
    "import pandas as pd\n",
    "import numpy as np\n",
    "\n",
    "## \"Web scraping\" and HTML\n",
    "import requests\n",
    "import lxml.html\n",
    "\n",
    "## Convenience functions\n",
    "from os.path import join\n",
    "from tqdm import tqdm_notebook as tqdm\n",
    "\n",
    "## NLP (Spacy)\n",
    "import en_core_web_sm\n",
    "nlp = en_core_web_sm.load()"
   ]
  },
  {
   "cell_type": "markdown",
   "metadata": {},
   "source": [
    "#### Packages not installed in `uw-python-camp` environment"
   ]
  },
  {
   "cell_type": "code",
   "execution_count": 3,
   "metadata": {},
   "outputs": [],
   "source": [
    "import unidecode\n",
    "import wrds"
   ]
  },
  {
   "cell_type": "markdown",
   "metadata": {},
   "source": [
    "Install these packages by opening up the Anaconda command line (terminal) and running:   \n",
    "```\n",
    "activate uw-python-camp\n",
    "pip install unidecode\n",
    "pip install wrds\n",
    "```\n",
    "\n",
    "**Note:** you will need to use `source active uw-python-camp` if on Mac OS or Linux"
   ]
  },
  {
   "cell_type": "markdown",
   "metadata": {
    "colab_type": "text",
    "id": "sFJZfP8RtfN3"
   },
   "source": [
    "## Step 1: get URL to EDGAR filings <br> -----------------------------------------------"
   ]
  },
  {
   "cell_type": "markdown",
   "metadata": {
    "colab_type": "text",
    "id": "KDRklqyVtfN4"
   },
   "source": [
    "Before we can download our EDGAR filings we first need to:\n",
    "\n",
    "1. Identify the filings that we are interested in  \n",
    "2. Collect the URLs that we can use to download these filings  \n",
    "\n",
    "We can do this in three ways:  \n",
    "\n",
    "1. Use WRDS SEC Analytics Suite   \n",
    "2. Download index files  \n",
    "3. Scrape EDGAR directly   \n",
    "\n",
    "**We will use WRDS SEC Analyics Suite (because we can)**"
   ]
  },
  {
   "cell_type": "markdown",
   "metadata": {
    "colab_type": "text",
    "id": "wyGwRsE7tfN6"
   },
   "source": [
    "### 1) Get all 10-K filings using the WRDS SEC Analytics Suite   "
   ]
  },
  {
   "cell_type": "markdown",
   "metadata": {},
   "source": [
    "### Approach 1: use the WRDS website   \n",
    "> WRDS SEC Analytics Suite --> WRDS SEC Filings Index Data   \n",
    "\n",
    "(Data already downloaded in `data/tesla_10-k_data.dta`)"
   ]
  },
  {
   "cell_type": "code",
   "execution_count": 4,
   "metadata": {},
   "outputs": [
    {
     "data": {
      "text/html": [
       "<div>\n",
       "<style scoped>\n",
       "    .dataframe tbody tr th:only-of-type {\n",
       "        vertical-align: middle;\n",
       "    }\n",
       "\n",
       "    .dataframe tbody tr th {\n",
       "        vertical-align: top;\n",
       "    }\n",
       "\n",
       "    .dataframe thead th {\n",
       "        text-align: right;\n",
       "    }\n",
       "</style>\n",
       "<table border=\"1\" class=\"dataframe\">\n",
       "  <thead>\n",
       "    <tr style=\"text-align: right;\">\n",
       "      <th></th>\n",
       "      <th>cik</th>\n",
       "      <th>fdate</th>\n",
       "      <th>form</th>\n",
       "      <th>fname</th>\n",
       "      <th>iname</th>\n",
       "    </tr>\n",
       "  </thead>\n",
       "  <tbody>\n",
       "    <tr>\n",
       "      <th>0</th>\n",
       "      <td>0001318605</td>\n",
       "      <td>2011-03-03</td>\n",
       "      <td>10-K</td>\n",
       "      <td>edgar/data/1318605/0001193125-11-054847.txt</td>\n",
       "      <td>edgar/data/1318605/0001193125-11-054847-index.htm</td>\n",
       "    </tr>\n",
       "    <tr>\n",
       "      <th>1</th>\n",
       "      <td>0001318605</td>\n",
       "      <td>2012-02-27</td>\n",
       "      <td>10-K</td>\n",
       "      <td>edgar/data/1318605/0001193125-12-081990.txt</td>\n",
       "      <td>edgar/data/1318605/0001193125-12-081990-index.htm</td>\n",
       "    </tr>\n",
       "    <tr>\n",
       "      <th>2</th>\n",
       "      <td>0001318605</td>\n",
       "      <td>2013-03-07</td>\n",
       "      <td>10-K</td>\n",
       "      <td>edgar/data/1318605/0001193125-13-096241.txt</td>\n",
       "      <td>edgar/data/1318605/0001193125-13-096241-index.htm</td>\n",
       "    </tr>\n",
       "    <tr>\n",
       "      <th>3</th>\n",
       "      <td>0001318605</td>\n",
       "      <td>2014-02-26</td>\n",
       "      <td>10-K</td>\n",
       "      <td>edgar/data/1318605/0001193125-14-069681.txt</td>\n",
       "      <td>edgar/data/1318605/0001193125-14-069681-index.htm</td>\n",
       "    </tr>\n",
       "    <tr>\n",
       "      <th>4</th>\n",
       "      <td>0001318605</td>\n",
       "      <td>2015-02-26</td>\n",
       "      <td>10-K</td>\n",
       "      <td>edgar/data/1318605/0001564590-15-001031.txt</td>\n",
       "      <td>edgar/data/1318605/0001564590-15-001031-index.htm</td>\n",
       "    </tr>\n",
       "    <tr>\n",
       "      <th>5</th>\n",
       "      <td>0001318605</td>\n",
       "      <td>2016-02-24</td>\n",
       "      <td>10-K</td>\n",
       "      <td>edgar/data/1318605/0001564590-16-013195.txt</td>\n",
       "      <td>edgar/data/1318605/0001564590-16-013195-index.htm</td>\n",
       "    </tr>\n",
       "    <tr>\n",
       "      <th>6</th>\n",
       "      <td>0001318605</td>\n",
       "      <td>2017-03-01</td>\n",
       "      <td>10-K</td>\n",
       "      <td>edgar/data/1318605/0001564590-17-003118.txt</td>\n",
       "      <td>edgar/data/1318605/0001564590-17-003118-index.htm</td>\n",
       "    </tr>\n",
       "    <tr>\n",
       "      <th>7</th>\n",
       "      <td>0001318605</td>\n",
       "      <td>2018-02-23</td>\n",
       "      <td>10-K</td>\n",
       "      <td>edgar/data/1318605/0001564590-18-002956.txt</td>\n",
       "      <td>edgar/data/1318605/0001564590-18-002956-index.htm</td>\n",
       "    </tr>\n",
       "  </tbody>\n",
       "</table>\n",
       "</div>"
      ],
      "text/plain": [
       "          cik      fdate  form                                        fname  \\\n",
       "0  0001318605 2011-03-03  10-K  edgar/data/1318605/0001193125-11-054847.txt   \n",
       "1  0001318605 2012-02-27  10-K  edgar/data/1318605/0001193125-12-081990.txt   \n",
       "2  0001318605 2013-03-07  10-K  edgar/data/1318605/0001193125-13-096241.txt   \n",
       "3  0001318605 2014-02-26  10-K  edgar/data/1318605/0001193125-14-069681.txt   \n",
       "4  0001318605 2015-02-26  10-K  edgar/data/1318605/0001564590-15-001031.txt   \n",
       "5  0001318605 2016-02-24  10-K  edgar/data/1318605/0001564590-16-013195.txt   \n",
       "6  0001318605 2017-03-01  10-K  edgar/data/1318605/0001564590-17-003118.txt   \n",
       "7  0001318605 2018-02-23  10-K  edgar/data/1318605/0001564590-18-002956.txt   \n",
       "\n",
       "                                               iname  \n",
       "0  edgar/data/1318605/0001193125-11-054847-index.htm  \n",
       "1  edgar/data/1318605/0001193125-12-081990-index.htm  \n",
       "2  edgar/data/1318605/0001193125-13-096241-index.htm  \n",
       "3  edgar/data/1318605/0001193125-14-069681-index.htm  \n",
       "4  edgar/data/1318605/0001564590-15-001031-index.htm  \n",
       "5  edgar/data/1318605/0001564590-16-013195-index.htm  \n",
       "6  edgar/data/1318605/0001564590-17-003118-index.htm  \n",
       "7  edgar/data/1318605/0001564590-18-002956-index.htm  "
      ]
     },
     "execution_count": 4,
     "metadata": {},
     "output_type": "execute_result"
    }
   ],
   "source": [
    "tesla_10k_df = pd.read_stata(join('data', 'tesla_10-k_data.dta'))\n",
    "tesla_10k_df[['cik', 'fdate', 'form', 'fname', 'iname']]"
   ]
  },
  {
   "cell_type": "markdown",
   "metadata": {},
   "source": [
    "### Approach 2: use the `WRDS` Python package   \n",
    "For an introduction to this approach see my ARC blog post:   \n",
    "https://arc.eaa-online.org/blog/retrieving-data-wrds-directly-using-python-r-and-stata"
   ]
  },
  {
   "cell_type": "code",
   "execution_count": 6,
   "metadata": {},
   "outputs": [
    {
     "name": "stdout",
     "output_type": "stream",
     "text": [
      "Enter your WRDS username [kokti]:tcjkok\n",
      "Enter your password:········\n",
      "WRDS recommends setting up a .pgpass file.\n",
      "You can find more info here:\n",
      "https://www.postgresql.org/docs/9.5/static/libpq-pgpass.html.\n",
      "Loading library list...\n",
      "Done\n"
     ]
    }
   ],
   "source": [
    "db = wrds.Connection()"
   ]
  },
  {
   "cell_type": "code",
   "execution_count": 7,
   "metadata": {},
   "outputs": [],
   "source": [
    "cik_tesla = '0001318605'\n",
    "\n",
    "sql_query = \"\"\"\n",
    "SELECT gvkey,\n",
    "       cik,\n",
    "       fdate,\n",
    "       form,\n",
    "       fname,\n",
    "       iname\n",
    "FROM wrdssec.forms \n",
    "WHERE form = '10-K' \n",
    "AND fdate >= '01-01-2009'\n",
    "AND cik = '{}'\n",
    "\"\"\".format(cik_tesla)"
   ]
  },
  {
   "cell_type": "code",
   "execution_count": 8,
   "metadata": {},
   "outputs": [
    {
     "name": "stdout",
     "output_type": "stream",
     "text": [
      "\n",
      "SELECT gvkey,\n",
      "       cik,\n",
      "       fdate,\n",
      "       form,\n",
      "       fname,\n",
      "       iname\n",
      "FROM wrdssec.forms \n",
      "WHERE form = '10-K' \n",
      "AND fdate >= '01-01-2009'\n",
      "AND cik = '0001318605'\n",
      "\n"
     ]
    }
   ],
   "source": [
    "print(sql_query)"
   ]
  },
  {
   "cell_type": "code",
   "execution_count": 9,
   "metadata": {},
   "outputs": [
    {
     "data": {
      "text/html": [
       "<div>\n",
       "<style scoped>\n",
       "    .dataframe tbody tr th:only-of-type {\n",
       "        vertical-align: middle;\n",
       "    }\n",
       "\n",
       "    .dataframe tbody tr th {\n",
       "        vertical-align: top;\n",
       "    }\n",
       "\n",
       "    .dataframe thead th {\n",
       "        text-align: right;\n",
       "    }\n",
       "</style>\n",
       "<table border=\"1\" class=\"dataframe\">\n",
       "  <thead>\n",
       "    <tr style=\"text-align: right;\">\n",
       "      <th></th>\n",
       "      <th>gvkey</th>\n",
       "      <th>cik</th>\n",
       "      <th>fdate</th>\n",
       "      <th>form</th>\n",
       "      <th>fname</th>\n",
       "      <th>iname</th>\n",
       "    </tr>\n",
       "  </thead>\n",
       "  <tbody>\n",
       "    <tr>\n",
       "      <th>0</th>\n",
       "      <td>184996</td>\n",
       "      <td>0001318605</td>\n",
       "      <td>2011-03-03</td>\n",
       "      <td>10-K</td>\n",
       "      <td>edgar/data/1318605/0001193125-11-054847.txt</td>\n",
       "      <td>edgar/data/1318605/0001193125-11-054847-index.htm</td>\n",
       "    </tr>\n",
       "    <tr>\n",
       "      <th>1</th>\n",
       "      <td>184996</td>\n",
       "      <td>0001318605</td>\n",
       "      <td>2012-02-27</td>\n",
       "      <td>10-K</td>\n",
       "      <td>edgar/data/1318605/0001193125-12-081990.txt</td>\n",
       "      <td>edgar/data/1318605/0001193125-12-081990-index.htm</td>\n",
       "    </tr>\n",
       "    <tr>\n",
       "      <th>2</th>\n",
       "      <td>184996</td>\n",
       "      <td>0001318605</td>\n",
       "      <td>2013-03-07</td>\n",
       "      <td>10-K</td>\n",
       "      <td>edgar/data/1318605/0001193125-13-096241.txt</td>\n",
       "      <td>edgar/data/1318605/0001193125-13-096241-index.htm</td>\n",
       "    </tr>\n",
       "    <tr>\n",
       "      <th>3</th>\n",
       "      <td>184996</td>\n",
       "      <td>0001318605</td>\n",
       "      <td>2014-02-26</td>\n",
       "      <td>10-K</td>\n",
       "      <td>edgar/data/1318605/0001193125-14-069681.txt</td>\n",
       "      <td>edgar/data/1318605/0001193125-14-069681-index.htm</td>\n",
       "    </tr>\n",
       "    <tr>\n",
       "      <th>4</th>\n",
       "      <td>184996</td>\n",
       "      <td>0001318605</td>\n",
       "      <td>2015-02-26</td>\n",
       "      <td>10-K</td>\n",
       "      <td>edgar/data/1318605/0001564590-15-001031.txt</td>\n",
       "      <td>edgar/data/1318605/0001564590-15-001031-index.htm</td>\n",
       "    </tr>\n",
       "    <tr>\n",
       "      <th>5</th>\n",
       "      <td>184996</td>\n",
       "      <td>0001318605</td>\n",
       "      <td>2016-02-24</td>\n",
       "      <td>10-K</td>\n",
       "      <td>edgar/data/1318605/0001564590-16-013195.txt</td>\n",
       "      <td>edgar/data/1318605/0001564590-16-013195-index.htm</td>\n",
       "    </tr>\n",
       "    <tr>\n",
       "      <th>6</th>\n",
       "      <td>184996</td>\n",
       "      <td>0001318605</td>\n",
       "      <td>2017-03-01</td>\n",
       "      <td>10-K</td>\n",
       "      <td>edgar/data/1318605/0001564590-17-003118.txt</td>\n",
       "      <td>edgar/data/1318605/0001564590-17-003118-index.htm</td>\n",
       "    </tr>\n",
       "    <tr>\n",
       "      <th>7</th>\n",
       "      <td>184996</td>\n",
       "      <td>0001318605</td>\n",
       "      <td>2018-02-23</td>\n",
       "      <td>10-K</td>\n",
       "      <td>edgar/data/1318605/0001564590-18-002956.txt</td>\n",
       "      <td>edgar/data/1318605/0001564590-18-002956-index.htm</td>\n",
       "    </tr>\n",
       "  </tbody>\n",
       "</table>\n",
       "</div>"
      ],
      "text/plain": [
       "    gvkey         cik       fdate  form  \\\n",
       "0  184996  0001318605  2011-03-03  10-K   \n",
       "1  184996  0001318605  2012-02-27  10-K   \n",
       "2  184996  0001318605  2013-03-07  10-K   \n",
       "3  184996  0001318605  2014-02-26  10-K   \n",
       "4  184996  0001318605  2015-02-26  10-K   \n",
       "5  184996  0001318605  2016-02-24  10-K   \n",
       "6  184996  0001318605  2017-03-01  10-K   \n",
       "7  184996  0001318605  2018-02-23  10-K   \n",
       "\n",
       "                                         fname  \\\n",
       "0  edgar/data/1318605/0001193125-11-054847.txt   \n",
       "1  edgar/data/1318605/0001193125-12-081990.txt   \n",
       "2  edgar/data/1318605/0001193125-13-096241.txt   \n",
       "3  edgar/data/1318605/0001193125-14-069681.txt   \n",
       "4  edgar/data/1318605/0001564590-15-001031.txt   \n",
       "5  edgar/data/1318605/0001564590-16-013195.txt   \n",
       "6  edgar/data/1318605/0001564590-17-003118.txt   \n",
       "7  edgar/data/1318605/0001564590-18-002956.txt   \n",
       "\n",
       "                                               iname  \n",
       "0  edgar/data/1318605/0001193125-11-054847-index.htm  \n",
       "1  edgar/data/1318605/0001193125-12-081990-index.htm  \n",
       "2  edgar/data/1318605/0001193125-13-096241-index.htm  \n",
       "3  edgar/data/1318605/0001193125-14-069681-index.htm  \n",
       "4  edgar/data/1318605/0001564590-15-001031-index.htm  \n",
       "5  edgar/data/1318605/0001564590-16-013195-index.htm  \n",
       "6  edgar/data/1318605/0001564590-17-003118-index.htm  \n",
       "7  edgar/data/1318605/0001564590-18-002956-index.htm  "
      ]
     },
     "execution_count": 9,
     "metadata": {},
     "output_type": "execute_result"
    }
   ],
   "source": [
    "tesla_10k_df = db.raw_sql(sql_query)\n",
    "tesla_10k_df"
   ]
  },
  {
   "cell_type": "markdown",
   "metadata": {
    "colab_type": "text",
    "id": "HqOcJWiLtfOe"
   },
   "source": [
    "## Step 2: download EDGAR filings <br> ----------------------------------------------"
   ]
  },
  {
   "cell_type": "markdown",
   "metadata": {
    "colab_type": "text",
    "id": "Zi8vrVA6tfOe"
   },
   "source": [
    "Each EDGAR filing consists of several documents. I recommend to download the aggregate TXT file called: `Complete submission text file`   \n",
    "\n",
    "See for example: https://www.sec.gov/Archives/edgar/data/1318605/0001193125-11-054847-index.htm"
   ]
  },
  {
   "cell_type": "markdown",
   "metadata": {},
   "source": [
    "### 2a) Understand EDGAR files and urls   \n",
    "You need to add \"https://www.sec.gov/Archives/\" to create the full URL"
   ]
  },
  {
   "cell_type": "code",
   "execution_count": 10,
   "metadata": {},
   "outputs": [],
   "source": [
    "edgar_url = \"https://www.sec.gov/Archives/\""
   ]
  },
  {
   "cell_type": "code",
   "execution_count": 12,
   "metadata": {},
   "outputs": [
    {
     "name": "stdout",
     "output_type": "stream",
     "text": [
      "edgar/data/1318605/0001193125-11-054847-index.htm\n"
     ]
    }
   ],
   "source": [
    "print(tesla_10k_df.iloc[0]['iname'])"
   ]
  },
  {
   "cell_type": "code",
   "execution_count": 13,
   "metadata": {},
   "outputs": [
    {
     "name": "stdout",
     "output_type": "stream",
     "text": [
      "https://www.sec.gov/Archives/edgar/data/1318605/0001193125-11-054847-index.htm\n",
      "https://www.sec.gov/Archives/edgar/data/1318605/0001193125-11-054847.txt\n"
     ]
    }
   ],
   "source": [
    "print(edgar_url + tesla_10k_df.iloc[0]['iname'])\n",
    "print(edgar_url + tesla_10k_df.iloc[0]['fname'])"
   ]
  },
  {
   "cell_type": "code",
   "execution_count": 15,
   "metadata": {},
   "outputs": [],
   "source": [
    "tesla_10k_df['download_url'] = tesla_10k_df.fname.apply(lambda file_url: edgar_url + file_url)"
   ]
  },
  {
   "cell_type": "code",
   "execution_count": 19,
   "metadata": {},
   "outputs": [
    {
     "data": {
      "text/plain": [
       "'https://www.sec.gov/Archives/edgar/data/1318605/0001193125-11-054847.txt'"
      ]
     },
     "execution_count": 19,
     "metadata": {},
     "output_type": "execute_result"
    }
   ],
   "source": [
    "tesla_10k_df.iloc[0]['download_url']"
   ]
  },
  {
   "cell_type": "markdown",
   "metadata": {},
   "source": [
    "### 2b) Create basic downloader that can deal with failure"
   ]
  },
  {
   "cell_type": "code",
   "execution_count": 25,
   "metadata": {},
   "outputs": [
    {
     "data": {
      "text/plain": [
       "'https://www.sec.gov/Archives/edgar/data/1318605/0001193125-11-054847.txt'"
      ]
     },
     "execution_count": 25,
     "metadata": {},
     "output_type": "execute_result"
    }
   ],
   "source": [
    "test_url = tesla_10k_df.iloc[0]['download_url']\n",
    "test_url"
   ]
  },
  {
   "cell_type": "code",
   "execution_count": 26,
   "metadata": {},
   "outputs": [
    {
     "data": {
      "text/plain": [
       "200"
      ]
     },
     "execution_count": 26,
     "metadata": {},
     "output_type": "execute_result"
    }
   ],
   "source": [
    "res = requests.get(test_url)\n",
    "res.status_code"
   ]
  },
  {
   "cell_type": "code",
   "execution_count": 27,
   "metadata": {},
   "outputs": [],
   "source": [
    "def download_file(url, max_tries=4, sleep_time = 1):\n",
    "    failed_attempts = 0\n",
    "    while True: \n",
    "        res = requests.get(url)\n",
    "        \n",
    "        if res.status_code == 200:\n",
    "            return True, res.text\n",
    "        else:\n",
    "            if failed_attempts < max_tries:\n",
    "                failed_attempts += 1\n",
    "                time.sleep(sleep_time)\n",
    "            else:\n",
    "                return False, 'Could not download'"
   ]
  },
  {
   "cell_type": "code",
   "execution_count": 30,
   "metadata": {},
   "outputs": [
    {
     "name": "stdout",
     "output_type": "stream",
     "text": [
      "True\n"
     ]
    }
   ],
   "source": [
    "test_res = download_file(test_url)\n",
    "print(test_res[0])"
   ]
  },
  {
   "cell_type": "markdown",
   "metadata": {},
   "source": [
    "### 2c) Download all the fillings"
   ]
  },
  {
   "cell_type": "markdown",
   "metadata": {},
   "source": [
    "Think carefully about the data structure! I usually recommend to use dictionaries for things that you want to keep associated with an identifier. "
   ]
  },
  {
   "cell_type": "code",
   "execution_count": 40,
   "metadata": {},
   "outputs": [
    {
     "data": {
      "application/vnd.jupyter.widget-view+json": {
       "model_id": "8d8b52ce05a44c7d8de66a9cf1c4cc19",
       "version_major": 2,
       "version_minor": 0
      },
      "text/html": [
       "<p>Failed to display Jupyter Widget of type <code>HBox</code>.</p>\n",
       "<p>\n",
       "  If you're reading this message in the Jupyter Notebook or JupyterLab Notebook, it may mean\n",
       "  that the widgets JavaScript is still loading. If this message persists, it\n",
       "  likely means that the widgets JavaScript library is either not installed or\n",
       "  not enabled. See the <a href=\"https://ipywidgets.readthedocs.io/en/stable/user_install.html\">Jupyter\n",
       "  Widgets Documentation</a> for setup instructions.\n",
       "</p>\n",
       "<p>\n",
       "  If you're reading this message in another frontend (for example, a static\n",
       "  rendering on GitHub or <a href=\"https://nbviewer.jupyter.org/\">NBViewer</a>),\n",
       "  it may mean that your frontend doesn't currently support widgets.\n",
       "</p>\n"
      ],
      "text/plain": [
       "HBox(children=(IntProgress(value=0, max=8), HTML(value='')))"
      ]
     },
     "metadata": {},
     "output_type": "display_data"
    },
    {
     "name": "stdout",
     "output_type": "stream",
     "text": [
      "\n"
     ]
    }
   ],
   "source": [
    "filing_dict = {}\n",
    "for url in tqdm(tesla_10k_df.download_url):\n",
    "    res = download_file(url)\n",
    "    if res[0] == True:\n",
    "        filing_dict[url] = res[1]"
   ]
  },
  {
   "cell_type": "code",
   "execution_count": 48,
   "metadata": {},
   "outputs": [
    {
     "data": {
      "text/plain": [
       "8"
      ]
     },
     "execution_count": 48,
     "metadata": {},
     "output_type": "execute_result"
    }
   ],
   "source": [
    "len(tesla_10k_df)"
   ]
  },
  {
   "cell_type": "code",
   "execution_count": 50,
   "metadata": {},
   "outputs": [
    {
     "data": {
      "application/vnd.jupyter.widget-view+json": {
       "model_id": "05d93bc75cb1465dabc9d231c92b0725",
       "version_major": 2,
       "version_minor": 0
      },
      "text/html": [
       "<p>Failed to display Jupyter Widget of type <code>HBox</code>.</p>\n",
       "<p>\n",
       "  If you're reading this message in the Jupyter Notebook or JupyterLab Notebook, it may mean\n",
       "  that the widgets JavaScript is still loading. If this message persists, it\n",
       "  likely means that the widgets JavaScript library is either not installed or\n",
       "  not enabled. See the <a href=\"https://ipywidgets.readthedocs.io/en/stable/user_install.html\">Jupyter\n",
       "  Widgets Documentation</a> for setup instructions.\n",
       "</p>\n",
       "<p>\n",
       "  If you're reading this message in another frontend (for example, a static\n",
       "  rendering on GitHub or <a href=\"https://nbviewer.jupyter.org/\">NBViewer</a>),\n",
       "  it may mean that your frontend doesn't currently support widgets.\n",
       "</p>\n"
      ],
      "text/plain": [
       "HBox(children=(IntProgress(value=0, max=8), HTML(value='')))"
      ]
     },
     "metadata": {},
     "output_type": "display_data"
    },
    {
     "name": "stdout",
     "output_type": "stream",
     "text": [
      "\n"
     ]
    }
   ],
   "source": [
    "tesla_10k_dict = {}\n",
    "status_dict = {}\n",
    "for index, row in tqdm(tesla_10k_df.iterrows(), total=len(tesla_10k_df.index)):\n",
    "    download_res = download_file(row['download_url'])\n",
    "    \n",
    "    status_dict[index] = download_res[0]\n",
    "    \n",
    "    if download_res[0]:\n",
    "        tesla_10k_dict[row['fname']] = download_res[1]"
   ]
  },
  {
   "cell_type": "code",
   "execution_count": 51,
   "metadata": {},
   "outputs": [],
   "source": [
    "tesla_10k_df['download_status'] = pd.Series(status_dict)"
   ]
  },
  {
   "cell_type": "code",
   "execution_count": null,
   "metadata": {},
   "outputs": [],
   "source": []
  },
  {
   "cell_type": "code",
   "execution_count": 52,
   "metadata": {},
   "outputs": [
    {
     "data": {
      "text/html": [
       "<div>\n",
       "<style scoped>\n",
       "    .dataframe tbody tr th:only-of-type {\n",
       "        vertical-align: middle;\n",
       "    }\n",
       "\n",
       "    .dataframe tbody tr th {\n",
       "        vertical-align: top;\n",
       "    }\n",
       "\n",
       "    .dataframe thead th {\n",
       "        text-align: right;\n",
       "    }\n",
       "</style>\n",
       "<table border=\"1\" class=\"dataframe\">\n",
       "  <thead>\n",
       "    <tr style=\"text-align: right;\">\n",
       "      <th></th>\n",
       "      <th>gvkey</th>\n",
       "      <th>cik</th>\n",
       "      <th>fdate</th>\n",
       "      <th>form</th>\n",
       "      <th>fname</th>\n",
       "      <th>iname</th>\n",
       "      <th>download_url</th>\n",
       "      <th>download_status</th>\n",
       "    </tr>\n",
       "  </thead>\n",
       "  <tbody>\n",
       "    <tr>\n",
       "      <th>0</th>\n",
       "      <td>184996</td>\n",
       "      <td>0001318605</td>\n",
       "      <td>2011-03-03</td>\n",
       "      <td>10-K</td>\n",
       "      <td>edgar/data/1318605/0001193125-11-054847.txt</td>\n",
       "      <td>edgar/data/1318605/0001193125-11-054847-index.htm</td>\n",
       "      <td>https://www.sec.gov/Archives/edgar/data/131860...</td>\n",
       "      <td>True</td>\n",
       "    </tr>\n",
       "    <tr>\n",
       "      <th>1</th>\n",
       "      <td>184996</td>\n",
       "      <td>0001318605</td>\n",
       "      <td>2012-02-27</td>\n",
       "      <td>10-K</td>\n",
       "      <td>edgar/data/1318605/0001193125-12-081990.txt</td>\n",
       "      <td>edgar/data/1318605/0001193125-12-081990-index.htm</td>\n",
       "      <td>https://www.sec.gov/Archives/edgar/data/131860...</td>\n",
       "      <td>True</td>\n",
       "    </tr>\n",
       "  </tbody>\n",
       "</table>\n",
       "</div>"
      ],
      "text/plain": [
       "    gvkey         cik       fdate  form  \\\n",
       "0  184996  0001318605  2011-03-03  10-K   \n",
       "1  184996  0001318605  2012-02-27  10-K   \n",
       "\n",
       "                                         fname  \\\n",
       "0  edgar/data/1318605/0001193125-11-054847.txt   \n",
       "1  edgar/data/1318605/0001193125-12-081990.txt   \n",
       "\n",
       "                                               iname  \\\n",
       "0  edgar/data/1318605/0001193125-11-054847-index.htm   \n",
       "1  edgar/data/1318605/0001193125-12-081990-index.htm   \n",
       "\n",
       "                                        download_url  download_status  \n",
       "0  https://www.sec.gov/Archives/edgar/data/131860...             True  \n",
       "1  https://www.sec.gov/Archives/edgar/data/131860...             True  "
      ]
     },
     "execution_count": 52,
     "metadata": {},
     "output_type": "execute_result"
    }
   ],
   "source": [
    "tesla_10k_df.head(2)"
   ]
  },
  {
   "cell_type": "code",
   "execution_count": 60,
   "metadata": {},
   "outputs": [
    {
     "name": "stdout",
     "output_type": "stream",
     "text": [
      "x;margin-bottom:2px;border-bottom:1pt solid #000000;width:21%\">&nbsp;</P></center> <P STYLE=\"margin-top:4px;margin-bottom:0px\" ALIGN=\"center\"><FONT STYLE=\"font-family:Times New Roman\" SIZE=\"5\"><B>FORM 10-K\n",
      "</B></FONT></P> <P STYLE=\"margin-top:4px;margin-bottom:0px\"><FONT STYLE=\"font-family:Times New Roman\" SIZE=\"2\">(Mark One) </FONT></P>\n",
      "<TABLE STYLE=\"BORDER-COLLAPSE:COLLAPSE\" BORDER=\"0\" CELLPADDING=\"0\" CELLSPACING=\"0\" WIDTH=\"100%\">\n",
      "<TR>\n",
      "<TD WIDTH=\"4%\" VALIGN=\"top\" ALIGN=\"left\"><FONT STYLE=\"font-family:Times New Roman\" SIZE=\"2\"><B></B><FONT STYLE=\"FONT-FAMILY:WINGDINGS\">&#120;</FONT><B></B><B></B></FONT></TD>\n",
      "<TD ALIGN=\"left\" VALIGN=\"top\"><FONT STYLE=\"font-family:Times New Roman\" SIZE=\"2\"><B>ANNUAL REPORT PURSUANT TO SECTION 13 OR 15(d) OF THE SECURITIES EXCHANGE ACT OF 1934 </B></FONT></TD></TR></TABLE>\n",
      "<P STYLE=\"margin-top:0px;margin-bottom:0px; text-indent:4%\"><FONT STYLE=\"font-family:Times New Roman\" SIZE=\"2\"><B>For the fiscal year ended December&nbsp;31, 2010 </B></FONT></P> <P ST\n"
     ]
    }
   ],
   "source": [
    "print(tesla_10k_dict['edgar/data/1318605/0001193125-11-054847.txt'][2000:3000])"
   ]
  },
  {
   "cell_type": "markdown",
   "metadata": {
    "colab_type": "text",
    "id": "xDR9oNdatfOs"
   },
   "source": [
    "## Step 3: prepare EDGAR filing <br> -----------------------------------------"
   ]
  },
  {
   "cell_type": "markdown",
   "metadata": {
    "colab_type": "text",
    "id": "9LxbIdo1tfOt"
   },
   "source": [
    "Before we can start working with the EDGAR filings we need to process the file we retrieved, in this case: \n",
    "1. Split the documents up  \n",
    "2. Keep the 10-K document\n",
    "3. Parse raw text into HTML + extract text   \n",
    "4. Clean the text up"
   ]
  },
  {
   "cell_type": "markdown",
   "metadata": {},
   "source": [
    "### 3a) Create a test document save it for manual inspection"
   ]
  },
  {
   "cell_type": "code",
   "execution_count": 61,
   "metadata": {},
   "outputs": [],
   "source": [
    "test_doc = tesla_10k_dict['edgar/data/1318605/0001193125-11-054847.txt']"
   ]
  },
  {
   "cell_type": "code",
   "execution_count": 62,
   "metadata": {},
   "outputs": [],
   "source": [
    "with open('test_doc.txt', 'w') as f:\n",
    "    f.write(test_doc)"
   ]
  },
  {
   "cell_type": "markdown",
   "metadata": {},
   "source": [
    "### 3b) Create logic to split the documents up"
   ]
  },
  {
   "cell_type": "markdown",
   "metadata": {},
   "source": [
    "How do we do this? Regular Expressions! "
   ]
  },
  {
   "cell_type": "markdown",
   "metadata": {},
   "source": [
    "#### Define regular expressions"
   ]
  },
  {
   "cell_type": "code",
   "execution_count": 63,
   "metadata": {
    "colab": {
     "autoexec": {
      "startup": false,
      "wait_interval": 0
     }
    },
    "colab_type": "code",
    "id": "gFdJyB4htfOu"
   },
   "outputs": [],
   "source": [
    "pattern_dict = {\n",
    "    'documents' : re.compile(r\"<document>(.*?)</document>\", re.IGNORECASE | re.DOTALL),\n",
    "    'metadata' : {\n",
    "        'type' : re.compile(r\"<type>(.*?)\\n\", re.IGNORECASE | re.DOTALL),\n",
    "        'sequence' : re.compile(r\"<sequence>(.*?)\\n\", re.IGNORECASE | re.DOTALL),\n",
    "        'filename' : re.compile(r\"<filename>(.*?)\\n\", re.IGNORECASE | re.DOTALL),\n",
    "        'description' : re.compile(r\"<description>(.*?)\\n\", re.IGNORECASE | re.DOTALL)\n",
    "    },\n",
    "    'text' : re.compile(r\"<text>(.*?)</text>\", re.IGNORECASE | re.DOTALL)\n",
    "}"
   ]
  },
  {
   "cell_type": "code",
   "execution_count": 64,
   "metadata": {},
   "outputs": [
    {
     "data": {
      "text/plain": [
       "['d10k.htm',\n",
       " 'dex1047.htm',\n",
       " 'dex211.htm',\n",
       " 'dex231.htm',\n",
       " 'dex311.htm',\n",
       " 'dex312.htm',\n",
       " 'dex321.htm',\n",
       " 'g151489g81s77.jpg']"
      ]
     },
     "execution_count": 64,
     "metadata": {},
     "output_type": "execute_result"
    }
   ],
   "source": [
    "pattern_dict['metadata']['filename'].findall(test_doc)"
   ]
  },
  {
   "cell_type": "markdown",
   "metadata": {},
   "source": [
    "#### *Alternative: use `LXML` to parse the SGML structure*"
   ]
  },
  {
   "cell_type": "code",
   "execution_count": 65,
   "metadata": {},
   "outputs": [],
   "source": [
    "sgml_parsed = lxml.html.fromstring(test_doc)"
   ]
  },
  {
   "cell_type": "code",
   "execution_count": 66,
   "metadata": {},
   "outputs": [
    {
     "name": "stdout",
     "output_type": "stream",
     "text": [
      "d10k.htm\n",
      "dex1047.htm\n",
      "dex211.htm\n",
      "dex231.htm\n",
      "dex311.htm\n",
      "dex312.htm\n",
      "dex321.htm\n",
      "g151489g81s77.jpg\n"
     ]
    }
   ],
   "source": [
    "for document in sgml_parsed.cssselect('document'):\n",
    "    print(document.cssselect('filename')[0].text.strip())"
   ]
  },
  {
   "cell_type": "markdown",
   "metadata": {},
   "source": [
    "#### Split up into documents"
   ]
  },
  {
   "cell_type": "code",
   "execution_count": 67,
   "metadata": {},
   "outputs": [
    {
     "name": "stdout",
     "output_type": "stream",
     "text": [
      "8\n"
     ]
    }
   ],
   "source": [
    "docs_split = pattern_dict['documents'].findall(test_doc)\n",
    "print(len(docs_split))"
   ]
  },
  {
   "cell_type": "markdown",
   "metadata": {},
   "source": [
    "#### Create function to extract information from one document"
   ]
  },
  {
   "cell_type": "code",
   "execution_count": 71,
   "metadata": {},
   "outputs": [],
   "source": [
    "def extract_metadata(doc, pattern_dict=pattern_dict):\n",
    "    data_dict = {}\n",
    "    \n",
    "    data_dict['metadata'] = {}\n",
    "    for key, pattern in pattern_dict['metadata'].items():\n",
    "        matches = pattern.findall(doc)\n",
    "        if matches:\n",
    "            data_dict['metadata'][key] = matches[0]\n",
    "        else:\n",
    "            data_dict['metadata'][key] = np.nan\n",
    "            \n",
    "    text_match = pattern_dict['text'].findall(doc)\n",
    "    if text_match:\n",
    "        data_dict['text'] = text_match[0]\n",
    "    else:\n",
    "        data_dict['text'] = np.nan\n",
    "        \n",
    "    return data_dict"
   ]
  },
  {
   "cell_type": "code",
   "execution_count": 72,
   "metadata": {},
   "outputs": [],
   "source": [
    "test = extract_metadata(docs_split[0])"
   ]
  },
  {
   "cell_type": "code",
   "execution_count": 73,
   "metadata": {},
   "outputs": [
    {
     "data": {
      "text/plain": [
       "dict_keys(['metadata', 'text'])"
      ]
     },
     "execution_count": 73,
     "metadata": {},
     "output_type": "execute_result"
    }
   ],
   "source": [
    "test.keys()"
   ]
  },
  {
   "cell_type": "code",
   "execution_count": 74,
   "metadata": {},
   "outputs": [
    {
     "data": {
      "text/plain": [
       "{'description': 'FOR THE FISCAL YEAR ENDED DECEMBER 31, 2010',\n",
       " 'filename': 'd10k.htm',\n",
       " 'sequence': '1',\n",
       " 'type': '10-K'}"
      ]
     },
     "execution_count": 74,
     "metadata": {},
     "output_type": "execute_result"
    }
   ],
   "source": [
    "test['metadata']"
   ]
  },
  {
   "cell_type": "markdown",
   "metadata": {},
   "source": [
    "### Apply extraction function to all filings to retrieve the 10-K part"
   ]
  },
  {
   "cell_type": "code",
   "execution_count": 75,
   "metadata": {},
   "outputs": [
    {
     "data": {
      "application/vnd.jupyter.widget-view+json": {
       "model_id": "f93469f8ed424fe5ab23facd7d48489e",
       "version_major": 2,
       "version_minor": 0
      },
      "text/html": [
       "<p>Failed to display Jupyter Widget of type <code>HBox</code>.</p>\n",
       "<p>\n",
       "  If you're reading this message in the Jupyter Notebook or JupyterLab Notebook, it may mean\n",
       "  that the widgets JavaScript is still loading. If this message persists, it\n",
       "  likely means that the widgets JavaScript library is either not installed or\n",
       "  not enabled. See the <a href=\"https://ipywidgets.readthedocs.io/en/stable/user_install.html\">Jupyter\n",
       "  Widgets Documentation</a> for setup instructions.\n",
       "</p>\n",
       "<p>\n",
       "  If you're reading this message in another frontend (for example, a static\n",
       "  rendering on GitHub or <a href=\"https://nbviewer.jupyter.org/\">NBViewer</a>),\n",
       "  it may mean that your frontend doesn't currently support widgets.\n",
       "</p>\n"
      ],
      "text/plain": [
       "HBox(children=(IntProgress(value=0, max=8), HTML(value='')))"
      ]
     },
     "metadata": {},
     "output_type": "display_data"
    },
    {
     "name": "stdout",
     "output_type": "stream",
     "text": [
      "\n"
     ]
    }
   ],
   "source": [
    "data_10k_dict = {}\n",
    "for filename, data in tqdm(tesla_10k_dict.items()):\n",
    "    docs_split = pattern_dict['documents'].findall(data)\n",
    "        \n",
    "    for doc in docs_split:\n",
    "        doc_data = extract_metadata(doc)\n",
    "        \n",
    "        ## Only keep 10-K document\n",
    "        if doc_data['metadata']['type'] == '10-K':\n",
    "            data_10k_dict[filename] = doc_data['text']\n",
    "            break"
   ]
  },
  {
   "cell_type": "code",
   "execution_count": 76,
   "metadata": {},
   "outputs": [
    {
     "data": {
      "text/plain": [
       "8"
      ]
     },
     "execution_count": 76,
     "metadata": {},
     "output_type": "execute_result"
    }
   ],
   "source": [
    "len(data_10k_dict)"
   ]
  },
  {
   "cell_type": "code",
   "execution_count": 77,
   "metadata": {},
   "outputs": [
    {
     "name": "stdout",
     "output_type": "stream",
     "text": [
      "\n",
      "<HTML><HEAD>\n",
      "<TITLE>For the fiscal year ended December 31, 2010</TITLE>\n",
      "</HEAD>\n",
      " <BODY BGCOLOR=\"WHITE\">\n",
      "<h5 align=\"left\"><a href=\"#toc\">Table of Contents</a></h5>\n",
      "\n",
      " <P STYLE=\"line-height:0px;margin-top:0px;margin-bottom:0px;border-bottom:0.5pt solid #000000\">&nbsp;</P>\n",
      "<P STYLE=\"line-height:3px;margin-top:0px;margin-bottom:2px;border-bottom:0.5pt solid #000000\">&nbsp;</P> <P STYLE=\"margin-top:4px;margin-bottom:0px\" ALIGN=\"center\"><FONT STYLE=\"font-family:Times New Roman\" SIZE=\"5\"><B>UNITED STATES </B></FONT></P>\n",
      "<P STYLE=\"margin-top:0px;margin-bottom:0px\" ALIGN=\"center\"><FONT STYLE=\"font-family:Times New Roman\" SIZE=\"5\"><B>SECURITIES AND EXCHANGE COMMISSION </B></FONT></P> <P STYLE=\"margin-top:0px;margin-bottom:0px\" ALIGN=\"center\"><FONT\n",
      "STYLE=\"font-family:Times New Roman\" SIZE=\"2\"><B>Washington, D.C. 20549 </B></FONT></P> <P STYLE=\"font-size:4px;margin-top:0px;margin-bottom:0px\">&nbsp;</P><center>\n",
      "<P STYLE=\"line-height:6px;margin-top:0px;margin-bottom:2px;border-bottom:1pt solid #0000\n"
     ]
    }
   ],
   "source": [
    "print(data_10k_dict['edgar/data/1318605/0001193125-11-054847.txt'][:1000])"
   ]
  },
  {
   "cell_type": "markdown",
   "metadata": {},
   "source": [
    "### 3c) Parse raw 10-K data as HTML"
   ]
  },
  {
   "cell_type": "markdown",
   "metadata": {},
   "source": [
    "If we are only interested in the text we can use `.text_content()` on the html object to extract only the text"
   ]
  },
  {
   "cell_type": "code",
   "execution_count": 78,
   "metadata": {},
   "outputs": [],
   "source": [
    "test = lxml.html.fromstring(data_10k_dict['edgar/data/1318605/0001193125-11-054847.txt'])\n",
    "\n",
    "#test.cssselect('TITLE')[0].text_content()"
   ]
  },
  {
   "cell_type": "code",
   "execution_count": 80,
   "metadata": {},
   "outputs": [],
   "source": [
    "test_2 = test.text_content()"
   ]
  },
  {
   "cell_type": "code",
   "execution_count": 84,
   "metadata": {},
   "outputs": [
    {
     "data": {
      "application/vnd.jupyter.widget-view+json": {
       "model_id": "18c3f91643eb444f96b217e3037803a9",
       "version_major": 2,
       "version_minor": 0
      },
      "text/html": [
       "<p>Failed to display Jupyter Widget of type <code>HBox</code>.</p>\n",
       "<p>\n",
       "  If you're reading this message in the Jupyter Notebook or JupyterLab Notebook, it may mean\n",
       "  that the widgets JavaScript is still loading. If this message persists, it\n",
       "  likely means that the widgets JavaScript library is either not installed or\n",
       "  not enabled. See the <a href=\"https://ipywidgets.readthedocs.io/en/stable/user_install.html\">Jupyter\n",
       "  Widgets Documentation</a> for setup instructions.\n",
       "</p>\n",
       "<p>\n",
       "  If you're reading this message in another frontend (for example, a static\n",
       "  rendering on GitHub or <a href=\"https://nbviewer.jupyter.org/\">NBViewer</a>),\n",
       "  it may mean that your frontend doesn't currently support widgets.\n",
       "</p>\n"
      ],
      "text/plain": [
       "HBox(children=(IntProgress(value=0, max=8), HTML(value='')))"
      ]
     },
     "metadata": {},
     "output_type": "display_data"
    },
    {
     "name": "stdout",
     "output_type": "stream",
     "text": [
      "\n"
     ]
    }
   ],
   "source": [
    "html_10k_dict = {}\n",
    "text_10k_dict = {}\n",
    "for filename, raw_text in tqdm(data_10k_dict.items()):\n",
    "    html = lxml.html.fromstring(raw_text)\n",
    "    html_10k_dict[filename] = html\n",
    "    text_10k_dict[filename] = html.text_content()"
   ]
  },
  {
   "cell_type": "code",
   "execution_count": 87,
   "metadata": {},
   "outputs": [
    {
     "data": {
      "text/plain": [
       "' gallon city and 25 miles per gallon highway. Furthermore, we expect our electric vehicles will have lower relative\\n\\n \\xa0 5 \\n\\n\\n\\n\\nTable of Contents\\n\\n\\n\\n\\n\\xa0\\n \\nmaintenance costs than hybrid, plug-in hybrid, or internal combustion engine vehicles due to fewer moving parts and the absence of certain components, including oil, oil filters, spark plugs and\\nengine valves. Additionally, government incentives that are currently available can reduce the cost of ownership even further.  \\xa0\\n\\n\\n\\xa0\\n\\x95\\n\\xa0\\n High-Performance Without Compromised Design or Functionality. We believe we have been able to successfully overcome the design and performance\\ntradeoff issues that encumbered most early electric vehicle designs. We believe the Tesla Roadster delivers an unparalleled driving experience with instantaneous and sustained acceleration through an extended range of speed. In addition, our planned\\nModel\\xa0S is being designed to seat five adults, provide best in class storage in the trunk and hood while offering design'"
      ]
     },
     "execution_count": 87,
     "metadata": {},
     "output_type": "execute_result"
    }
   ],
   "source": [
    "text_10k_dict['edgar/data/1318605/0001193125-11-054847.txt'][20000:21000]"
   ]
  },
  {
   "cell_type": "markdown",
   "metadata": {},
   "source": [
    "### 3d) Clean up the text   \n",
    "I usually do at least two things:  \n",
    "\n",
    "1. I try to fix encoding errors to avoid getting too many weird characters  \n",
    "2. Replace newline characters with a whitespace\n",
    "3. Remove as many unnescessary whitespaces as possible   \n",
    "4. Remove \"table of contents\" text and page number"
   ]
  },
  {
   "cell_type": "code",
   "execution_count": 99,
   "metadata": {},
   "outputs": [
    {
     "data": {
      "application/vnd.jupyter.widget-view+json": {
       "model_id": "a3057d8b1ca64686b56f4b1e651a437a",
       "version_major": 2,
       "version_minor": 0
      },
      "text/html": [
       "<p>Failed to display Jupyter Widget of type <code>HBox</code>.</p>\n",
       "<p>\n",
       "  If you're reading this message in the Jupyter Notebook or JupyterLab Notebook, it may mean\n",
       "  that the widgets JavaScript is still loading. If this message persists, it\n",
       "  likely means that the widgets JavaScript library is either not installed or\n",
       "  not enabled. See the <a href=\"https://ipywidgets.readthedocs.io/en/stable/user_install.html\">Jupyter\n",
       "  Widgets Documentation</a> for setup instructions.\n",
       "</p>\n",
       "<p>\n",
       "  If you're reading this message in another frontend (for example, a static\n",
       "  rendering on GitHub or <a href=\"https://nbviewer.jupyter.org/\">NBViewer</a>),\n",
       "  it may mean that your frontend doesn't currently support widgets.\n",
       "</p>\n"
      ],
      "text/plain": [
       "HBox(children=(IntProgress(value=0, max=8), HTML(value='')))"
      ]
     },
     "metadata": {},
     "output_type": "display_data"
    },
    {
     "name": "stdout",
     "output_type": "stream",
     "text": [
      "\n"
     ]
    }
   ],
   "source": [
    "cleantext_10k_dict = {}\n",
    "for filename, text in tqdm(text_10k_dict.items()):\n",
    "    ## Fix encoding\n",
    "    clean_text = unidecode.unidecode(text)\n",
    "    \n",
    "    ## Replace newline characters with space\n",
    "    clean_text = re.sub('\\s', ' ', clean_text)\n",
    "    \n",
    "    ## Remove duplicate whitespaces\n",
    "    clean_text = ' '.join([word for word in clean_text.split(' ') if word != ''])\n",
    "    \n",
    "    ## Replace \"Page number + Table of Contents footer\"\n",
    "    clean_text = re.sub(' \\d+ Table of Contents ', ' ', clean_text)\n",
    "    \n",
    "    cleantext_10k_dict[filename] = clean_text"
   ]
  },
  {
   "cell_type": "code",
   "execution_count": 100,
   "metadata": {},
   "outputs": [
    {
     "data": {
      "text/plain": [
       "'nformation Administration of the U.S. Department of Energy, the cost per mile to fuel the Tesla Roadster is approximately 70% less than the cost to fuel the 2009 Porsche 911 Carrera, which has an EPA mileage rating of 18 miles per gallon city and 25 miles per gallon highway. Furthermore, we expect our electric vehicles will have lower relative maintenance costs than hybrid, plug-in hybrid, or internal combustion engine vehicles due to fewer moving parts and the absence of certain components, including oil, oil filters, spark plugs and engine valves. Additionally, government incentives that are currently available can reduce the cost of ownership even further. High-Performance Without Compromised Design or Functionality. We believe we have been able to successfully overcome the design and performance tradeoff issues that encumbered most early electric vehicle designs. We believe the Tesla Roadster delivers an unparalleled driving experience with instantaneous and sustained acceleration through an extended range of speed. In addition, our planned Model S is being designed to seat five adults, provide best in class storage in the trunk and hood while offering design and performance comparable to, or better than, other premium sedans. Our Vehicles and Products We currently design, manufacture and sell the Tesla Roadster, our first production vehicle. We are designing our second vehicle, the Model S, and currently plan to begin production of the Model S in mid-2012. We intend to design the Model S with an adaptable platform architecture and common electric powertrain so that we can use the platform of the Model S to create future electric vehicles targeting additional segments of the passenger vehicle market. The Tesla Roadster Our first vehicle, the Tesla Roadster, is the first high-performance electric sports car and the only highway-capable electric vehicle available in the United States today. The two-seat, convertible Tesla Roadster has a combination of range, style'"
      ]
     },
     "execution_count": 100,
     "metadata": {},
     "output_type": "execute_result"
    }
   ],
   "source": [
    "cleantext_10k_dict['edgar/data/1318605/0001193125-11-054847.txt'][19000:21000]"
   ]
  },
  {
   "cell_type": "markdown",
   "metadata": {
    "colab_type": "text",
    "id": "BB7q7YAstfPI"
   },
   "source": [
    "## Step 4: extract section <br> --------------------------------"
   ]
  },
  {
   "cell_type": "markdown",
   "metadata": {},
   "source": [
    "### 4a) Create a function that can extract the MD&A part"
   ]
  },
  {
   "cell_type": "markdown",
   "metadata": {
    "colab_type": "text",
    "id": "y78bZpDJtfPI"
   },
   "source": [
    "The MD&A section starts with something along the lines of:\n",
    "\n",
    "> Item 7, Management's Discussion and Analysis of Financial Condition and Results of Operations\n",
    "\n",
    "And ends with the next section that starts with something along the lines of:\n",
    "\n",
    "> Item 7A, Quantitative and Qualitative Disclosures About Market Risk; \n",
    "\n",
    "So the trick is to identify where the MD&A sections starts and where it ends, once we know that we can extract the MD&A part.\n"
   ]
  },
  {
   "cell_type": "code",
   "execution_count": 101,
   "metadata": {
    "colab": {
     "autoexec": {
      "startup": false,
      "wait_interval": 0
     }
    },
    "colab_type": "code",
    "id": "JlDTY1vFtfPJ"
   },
   "outputs": [],
   "source": [
    "def extract_MDA_from_10K(text, section_number_range = 10, keyword_range = 200, \n",
    "                         reference_range = 10, title_range = 100, min_length = 1000):\n",
    "    \"\"\"Extract the MD&A part out of a 10-K filing. \"\"\"\n",
    "    \n",
    "    ## Split the document based on the word \"item\"\n",
    "    parts = re.split('item|Item|ITEM', text)\n",
    "    \n",
    "    # ------------------------------------------\n",
    "    # Step 1: try to find where the MD&A begins\n",
    "    # ------------------------------------------\n",
    "\n",
    "    ## Loop over each part and check whether it starts with 7 that is not followed by an \"a\"\n",
    "    valid_start_parts = []\n",
    "    for i, text in enumerate(parts):\n",
    "        if '7' in text.strip()[:section_number_range] and not '7a' in text.strip().lower()[:section_number_range]:\n",
    "            valid_start_parts.append(i)\n",
    "    \n",
    "    # ----------------------------------------\n",
    "    # Step 2: try to find where the MD&A ends\n",
    "    # ----------------------------------------\n",
    "\n",
    "    results = []\n",
    "    reference = 0\n",
    "\n",
    "    ## Loop over all elements that start with 7 (excluding those starting with 7a)\n",
    "    for i in valid_start_parts:\n",
    "        mda_text = parts[i]\n",
    "        endPoint = i+1\n",
    "\n",
    "        isValid = 0\n",
    "        reference = 0\n",
    "\n",
    "        ## Loop over the elements that follow the current element and check whether it matches item 7a\n",
    "        while endPoint < len(parts):\n",
    "            end_part_text = parts[endPoint]\n",
    "            ## Check if potential candidate for ending part\n",
    "            if '7a' in end_part_text.strip().lower()[:section_number_range]:\n",
    "                \n",
    "                ## Check for keywords (quan and qual) that indicate start section 7a (and not just 7a mentioned in the text)\n",
    "                if end_part_text[:keyword_range].lower().find('quan') >= 0 and end_part_text[:keyword_range].lower().find('qual') >= 0:\n",
    "                    \n",
    "                    ## Final check to make sure it is not a reference, if not then consider valid and break loop\n",
    "                    if mda_text[-reference_range:].lower().find(' see ') <= 0 and mda_text[-reference_range:].lower().find(' in ') <= 0:\n",
    "                        isValid = 1\n",
    "                        break\n",
    "            \n",
    "            ## If not the end then add the part of the text but keep searching by going to the next one\n",
    "            mda_text = ' '.join((mda_text, parts[endPoint]))\n",
    "            endPoint += 1\n",
    "            \n",
    "        # ----------------------------------------\n",
    "        # Step 3: double check it is a valid text\n",
    "        # ----------------------------------------\n",
    "        \n",
    "        ## Short hits are either invalid or imply incorporated by reference\n",
    "        if (len(mda_text) < min_length):\n",
    "            if mda_text.lower().find('incorporated') and mda_text.lower().find('reference'):\n",
    "                reference = 1\n",
    "            else:\n",
    "                isValid = 0\n",
    "\n",
    "        ## Check whether it contains the title, otherwise consider it an invalid hit\n",
    "        if mda_text[:title_range].lower().find('discussion') < 0 and mda_text[:title_range].lower().find('analysis') < 0:\n",
    "            isValid = 0\n",
    "\n",
    "        ## Append valid hits that do not indicate incorporated by reference\n",
    "        if isValid:\n",
    "            if not reference:\n",
    "                results.append(mda_text)\n",
    "\n",
    "    ## Return the shortest possible valid mda_text:\n",
    "    if len(results) > 0:\n",
    "        return {'status' : 'Good', \n",
    "                'mda_text' : sorted(results, key = len)[0]}\n",
    "    else:\n",
    "        if reference:\n",
    "            return {'status' : 'Reference', \n",
    "                    'mda_text' : None}\n",
    "        else:\n",
    "            return {'status' : 'Not found', \n",
    "                    'mda_text' : None}"
   ]
  },
  {
   "cell_type": "markdown",
   "metadata": {},
   "source": [
    "### 4b) Apply MD&A function on the text of each 10-K filing "
   ]
  },
  {
   "cell_type": "code",
   "execution_count": 102,
   "metadata": {},
   "outputs": [
    {
     "data": {
      "application/vnd.jupyter.widget-view+json": {
       "model_id": "e163721575044eeb8523a829b71b6cd6",
       "version_major": 2,
       "version_minor": 0
      },
      "text/html": [
       "<p>Failed to display Jupyter Widget of type <code>HBox</code>.</p>\n",
       "<p>\n",
       "  If you're reading this message in the Jupyter Notebook or JupyterLab Notebook, it may mean\n",
       "  that the widgets JavaScript is still loading. If this message persists, it\n",
       "  likely means that the widgets JavaScript library is either not installed or\n",
       "  not enabled. See the <a href=\"https://ipywidgets.readthedocs.io/en/stable/user_install.html\">Jupyter\n",
       "  Widgets Documentation</a> for setup instructions.\n",
       "</p>\n",
       "<p>\n",
       "  If you're reading this message in another frontend (for example, a static\n",
       "  rendering on GitHub or <a href=\"https://nbviewer.jupyter.org/\">NBViewer</a>),\n",
       "  it may mean that your frontend doesn't currently support widgets.\n",
       "</p>\n"
      ],
      "text/plain": [
       "HBox(children=(IntProgress(value=0, max=8), HTML(value='')))"
      ]
     },
     "metadata": {},
     "output_type": "display_data"
    },
    {
     "name": "stdout",
     "output_type": "stream",
     "text": [
      "\n"
     ]
    }
   ],
   "source": [
    "mda_text_dict = {}\n",
    "mda_status_list = []\n",
    "for filename, text in tqdm(cleantext_10k_dict.items()):\n",
    "    mda_result = extract_MDA_from_10K(text)\n",
    "    \n",
    "    mda_status_list.append([filename, mda_result['status']])\n",
    "    \n",
    "    if mda_result['status'] == 'Good':\n",
    "        mda_text_dict[filename] = mda_result['mda_text']"
   ]
  },
  {
   "cell_type": "code",
   "execution_count": 103,
   "metadata": {},
   "outputs": [
    {
     "data": {
      "text/html": [
       "<div>\n",
       "<style scoped>\n",
       "    .dataframe tbody tr th:only-of-type {\n",
       "        vertical-align: middle;\n",
       "    }\n",
       "\n",
       "    .dataframe tbody tr th {\n",
       "        vertical-align: top;\n",
       "    }\n",
       "\n",
       "    .dataframe thead th {\n",
       "        text-align: right;\n",
       "    }\n",
       "</style>\n",
       "<table border=\"1\" class=\"dataframe\">\n",
       "  <thead>\n",
       "    <tr style=\"text-align: right;\">\n",
       "      <th></th>\n",
       "      <th>filename</th>\n",
       "      <th>status</th>\n",
       "    </tr>\n",
       "  </thead>\n",
       "  <tbody>\n",
       "    <tr>\n",
       "      <th>0</th>\n",
       "      <td>edgar/data/1318605/0001193125-11-054847.txt</td>\n",
       "      <td>Good</td>\n",
       "    </tr>\n",
       "    <tr>\n",
       "      <th>1</th>\n",
       "      <td>edgar/data/1318605/0001193125-12-081990.txt</td>\n",
       "      <td>Good</td>\n",
       "    </tr>\n",
       "    <tr>\n",
       "      <th>2</th>\n",
       "      <td>edgar/data/1318605/0001193125-13-096241.txt</td>\n",
       "      <td>Good</td>\n",
       "    </tr>\n",
       "    <tr>\n",
       "      <th>3</th>\n",
       "      <td>edgar/data/1318605/0001193125-14-069681.txt</td>\n",
       "      <td>Good</td>\n",
       "    </tr>\n",
       "    <tr>\n",
       "      <th>4</th>\n",
       "      <td>edgar/data/1318605/0001564590-15-001031.txt</td>\n",
       "      <td>Good</td>\n",
       "    </tr>\n",
       "    <tr>\n",
       "      <th>5</th>\n",
       "      <td>edgar/data/1318605/0001564590-16-013195.txt</td>\n",
       "      <td>Good</td>\n",
       "    </tr>\n",
       "    <tr>\n",
       "      <th>6</th>\n",
       "      <td>edgar/data/1318605/0001564590-17-003118.txt</td>\n",
       "      <td>Good</td>\n",
       "    </tr>\n",
       "    <tr>\n",
       "      <th>7</th>\n",
       "      <td>edgar/data/1318605/0001564590-18-002956.txt</td>\n",
       "      <td>Good</td>\n",
       "    </tr>\n",
       "  </tbody>\n",
       "</table>\n",
       "</div>"
      ],
      "text/plain": [
       "                                      filename status\n",
       "0  edgar/data/1318605/0001193125-11-054847.txt   Good\n",
       "1  edgar/data/1318605/0001193125-12-081990.txt   Good\n",
       "2  edgar/data/1318605/0001193125-13-096241.txt   Good\n",
       "3  edgar/data/1318605/0001193125-14-069681.txt   Good\n",
       "4  edgar/data/1318605/0001564590-15-001031.txt   Good\n",
       "5  edgar/data/1318605/0001564590-16-013195.txt   Good\n",
       "6  edgar/data/1318605/0001564590-17-003118.txt   Good\n",
       "7  edgar/data/1318605/0001564590-18-002956.txt   Good"
      ]
     },
     "execution_count": 103,
     "metadata": {},
     "output_type": "execute_result"
    }
   ],
   "source": [
    "pd.DataFrame(mda_status_list, columns=['filename', 'status'])"
   ]
  },
  {
   "cell_type": "code",
   "execution_count": 104,
   "metadata": {},
   "outputs": [
    {
     "data": {
      "text/plain": [
       "' 7. MANAGEMENTS DISCUSSION AND ANALYSIS OF FINANCIAL CONDITION AND RESULTS OF OPERATIONS The following discussion and analysis should be read in conjunction with our consolidated financial statements and the related notes that appear elsewhere in this Annual Report on Form 10-K. These discussions contain forward-looking statements reflecting our current expectations that involve risks and uncertainties. These forward-looking statements include, but are not limited to, statements concerning our strategy, future operations, future financial position, future revenues, projected costs, expectations regarding demand and acceptance for our technologies, growth opportunities and trends in the market in which we operate, prospects and plans and objectives of management. The words anticipates, believes, estimates, expects, intends, may, plans, projects, will, would and similar expressions are intended to identify forward-looking statements, although not all forward-looking statements contain these identifying words. We may not actually achieve the plans, intentions or expectations disclosed in our forward-looking statements and you should not place undue reliance on our forward-looking statements. Actual results or events could differ materially from the plans, intentions and expectations disclosed in the forward-looking statements that we make. These forward-looking statements involve risks and uncertainties that could cause our actual results to differ materially from those in the forward-looking statements, including, without limitation, the risks set forth in Part I,   1A, Risk Factors in this Annual Report on Form 10-K and in our other filings with the Securities and Exchange Commission. We do not assume any obligation to update any forward-looking statements. Overview and 2010 Highlights We design, develop, manufacture and sell high-performance fully electric vehicles and advanced electric vehicle powertrain components. We own our sales and service network, and market and sell our vehicles directly to consumers via the phone and internet, in-person at our corporate events and through our network of Tesla stores. We were incorporated in Delaware in 2003, opened our first store in Los Angeles, California in May 2008, and introduced our first vehicle, the Tesla Roadster, in early 2008. In July 2009, we introduced a new Roadster model, the Tesla Roadster 2, and its higher performance option package Roadster Sport, as well as launched the Tesla Roadster in Europe. On July 1, 2010, we introduced the Roadster 2.5, with new styling and an upgraded interior. During the year ended December 31, 2010, we experienced solid performance from sales of the Tesla Roadster, especially considering that the automotive sales recognized in 2009 were driven primarily from the fulfillment of a significant reservations list that had accumulated prior to and through 2009. Our automotive sales revenues in 2010 were primarily driven by retail store expansion globally and higher'"
      ]
     },
     "execution_count": 104,
     "metadata": {},
     "output_type": "execute_result"
    }
   ],
   "source": [
    "mda_text_dict['edgar/data/1318605/0001193125-11-054847.txt'][:3000]"
   ]
  },
  {
   "cell_type": "code",
   "execution_count": 41,
   "metadata": {},
   "outputs": [
    {
     "data": {
      "text/plain": [
       "'etermine with certainty the potential costs to remediate any pre-existing contamination. Based on managements best estimate, we estimated the fair value of the environmental liabilities that we assumed to be $5.3 million, which is not reflected in the table above as the timing of any potential payments cannot be reasonably determined at this time. As NUMMI continues with its decommissioning activities and as we continue with our planned construction and operating activities, it is reasonably possible that our estimate of environmental liabilities may change materially. We have reached an agreement with NUMMI under which, over a ten year period, we will pay the first $15.0 million of any costs of any governmentally-required remediation activities for contamination that existed prior to the completion of the facility and land purchase for any known or unknown environmental conditions, and NUMMI has agreed to pay the next $15.0 million for such remediation activities. Our agreement provides, in part, that NUMMI will pay up to the first $15.0 million on our behalf if such expenses are incurred in the first four years of our agreement, subject to our reimbursement of such costs on the fourth anniversary date of the closing. On the ten-year anniversary of the closing or whenever $30.0 million has been spent on the remediation activities, whichever comes first, NUMMIs liability to us with respect to remediation activities ceases, and we are responsible for any and all environmental conditions at the Fremont site. At that point in time, we have agreed to indemnify, defend, and hold harmless NUMMI from all liability and we have released NUMMI for any known or unknown claims except for NUMMIs obligations for representations and warranties under the agreement. As of December 31, 2010 and 2009, we held reservation payments of $30.8 million and $26.0 million from potential customers, respectively, which are not reflected in the table above. As of December 31, 2010, we held reservation payments for undelivered Tesla Roadsters in an aggregate amount of $2.5 million and reservation payments for Model S sedans in an aggregate amount of $28.3 million. As of December 31, 2009, we held reservation payments for undelivered Tesla Roadsters in an aggregate amount of $8.2 million and reservation payments for Model S sedans in an aggregate amount of $17.9 million. In order to convert the reservation payments into revenue, we will need to sell vehicles to these customers. All reservation payments for the Model S are fully refundable until such time that a customer enters into a purchase agreement. Off-Balance Sheet Arrangements During the periods presented, we did not have relationships with unconsolidated entities or financial partnerships, such as entities often referred to as structured finance or special purpose entities, which would have been established for the purpose of facilitating off-balance sheet arrangements or other contractually narrow or limited purposes. '"
      ]
     },
     "execution_count": 41,
     "metadata": {},
     "output_type": "execute_result"
    }
   ],
   "source": [
    "mda_text_dict['edgar/data/1318605/0001193125-11-054847.txt'][-3000:]"
   ]
  },
  {
   "cell_type": "markdown",
   "metadata": {
    "colab_type": "text",
    "id": "5Ck-3kf7tfPM"
   },
   "source": [
    "## Step 5: calculate metrics <br> ------------------------------------"
   ]
  },
  {
   "cell_type": "markdown",
   "metadata": {},
   "source": [
    "### 5a) Use spacy to split text up into sentence and words"
   ]
  },
  {
   "cell_type": "markdown",
   "metadata": {},
   "source": [
    "Parse each text using Spacy"
   ]
  },
  {
   "cell_type": "code",
   "execution_count": 105,
   "metadata": {},
   "outputs": [
    {
     "data": {
      "application/vnd.jupyter.widget-view+json": {
       "model_id": "c8f2d47408834df39f75709da8ad4713",
       "version_major": 2,
       "version_minor": 0
      },
      "text/html": [
       "<p>Failed to display Jupyter Widget of type <code>HBox</code>.</p>\n",
       "<p>\n",
       "  If you're reading this message in the Jupyter Notebook or JupyterLab Notebook, it may mean\n",
       "  that the widgets JavaScript is still loading. If this message persists, it\n",
       "  likely means that the widgets JavaScript library is either not installed or\n",
       "  not enabled. See the <a href=\"https://ipywidgets.readthedocs.io/en/stable/user_install.html\">Jupyter\n",
       "  Widgets Documentation</a> for setup instructions.\n",
       "</p>\n",
       "<p>\n",
       "  If you're reading this message in another frontend (for example, a static\n",
       "  rendering on GitHub or <a href=\"https://nbviewer.jupyter.org/\">NBViewer</a>),\n",
       "  it may mean that your frontend doesn't currently support widgets.\n",
       "</p>\n"
      ],
      "text/plain": [
       "HBox(children=(IntProgress(value=0, max=8), HTML(value='')))"
      ]
     },
     "metadata": {},
     "output_type": "display_data"
    },
    {
     "name": "stdout",
     "output_type": "stream",
     "text": [
      "\n"
     ]
    }
   ],
   "source": [
    "spacy_mda_dict = {}\n",
    "for filename, mda_text in tqdm(mda_text_dict.items()):\n",
    "    spacy_mda_dict[filename] = nlp(mda_text)"
   ]
  },
  {
   "cell_type": "markdown",
   "metadata": {},
   "source": [
    "Split up into sentences and tokens"
   ]
  },
  {
   "cell_type": "code",
   "execution_count": 106,
   "metadata": {},
   "outputs": [
    {
     "data": {
      "application/vnd.jupyter.widget-view+json": {
       "model_id": "7a8d188c39a343af97c874ac2c1ca65c",
       "version_major": 2,
       "version_minor": 0
      },
      "text/html": [
       "<p>Failed to display Jupyter Widget of type <code>HBox</code>.</p>\n",
       "<p>\n",
       "  If you're reading this message in the Jupyter Notebook or JupyterLab Notebook, it may mean\n",
       "  that the widgets JavaScript is still loading. If this message persists, it\n",
       "  likely means that the widgets JavaScript library is either not installed or\n",
       "  not enabled. See the <a href=\"https://ipywidgets.readthedocs.io/en/stable/user_install.html\">Jupyter\n",
       "  Widgets Documentation</a> for setup instructions.\n",
       "</p>\n",
       "<p>\n",
       "  If you're reading this message in another frontend (for example, a static\n",
       "  rendering on GitHub or <a href=\"https://nbviewer.jupyter.org/\">NBViewer</a>),\n",
       "  it may mean that your frontend doesn't currently support widgets.\n",
       "</p>\n"
      ],
      "text/plain": [
       "HBox(children=(IntProgress(value=0, max=8), HTML(value='')))"
      ]
     },
     "metadata": {},
     "output_type": "display_data"
    },
    {
     "name": "stdout",
     "output_type": "stream",
     "text": [
      "\n"
     ]
    }
   ],
   "source": [
    "mda_sen_and_token_dict = {}\n",
    "for filename, spacy_obj in tqdm(spacy_mda_dict.items()):\n",
    "    sentences = []\n",
    "    for sentence in spacy_obj.sents:\n",
    "        sentences.append([token.text.lower() for token in sentence])\n",
    "    mda_sen_and_token_dict[filename] = sentences"
   ]
  },
  {
   "cell_type": "code",
   "execution_count": 107,
   "metadata": {},
   "outputs": [
    {
     "data": {
      "text/plain": [
       "['the',\n",
       " 'following',\n",
       " 'discussion',\n",
       " 'and',\n",
       " 'analysis',\n",
       " 'should',\n",
       " 'be',\n",
       " 'read',\n",
       " 'in',\n",
       " 'conjunction',\n",
       " 'with',\n",
       " 'our',\n",
       " 'consolidated',\n",
       " 'financial',\n",
       " 'statements',\n",
       " 'and',\n",
       " 'the',\n",
       " 'related',\n",
       " 'notes',\n",
       " 'that',\n",
       " 'appear',\n",
       " 'elsewhere',\n",
       " 'in',\n",
       " 'this',\n",
       " 'annual',\n",
       " 'report',\n",
       " 'on',\n",
       " 'form',\n",
       " '10-k.']"
      ]
     },
     "execution_count": 107,
     "metadata": {},
     "output_type": "execute_result"
    }
   ],
   "source": [
    "mda_sen_and_token_dict['edgar/data/1318605/0001193125-11-054847.txt'][2]"
   ]
  },
  {
   "cell_type": "markdown",
   "metadata": {},
   "source": [
    "### 5b) Calculate tone based on Loughran and McDonald dictionary at the MD&A level"
   ]
  },
  {
   "cell_type": "markdown",
   "metadata": {},
   "source": [
    "For the sake of simplicity, assume this is the tone score we want to calculate: $\\frac{(Num\\ Positive\\ Words - Num\\ Negative\\ Words)}{Total\\ Number\\ of\\ Words}$\n"
   ]
  },
  {
   "cell_type": "code",
   "execution_count": 108,
   "metadata": {
    "colab": {
     "autoexec": {
      "startup": false,
      "wait_interval": 0
     }
    },
    "colab_type": "code",
    "id": "cqD5i0VbtfPM"
   },
   "outputs": [],
   "source": [
    "lm_df = pd.read_excel(os.path.join('data', 'LoughranMcDonald_MasterDictionary_2014.xlsx'))\n",
    "negative_words = [str(x).lower() for x in lm_df[lm_df.Negative != 0].Word.values]\n",
    "positive_words = [str(x).lower() for x in lm_df[lm_df.Positive != 0].Word.values]"
   ]
  },
  {
   "cell_type": "code",
   "execution_count": 109,
   "metadata": {},
   "outputs": [
    {
     "data": {
      "application/vnd.jupyter.widget-view+json": {
       "model_id": "76a657ab5cb74e6798560cf850486136",
       "version_major": 2,
       "version_minor": 0
      },
      "text/html": [
       "<p>Failed to display Jupyter Widget of type <code>HBox</code>.</p>\n",
       "<p>\n",
       "  If you're reading this message in the Jupyter Notebook or JupyterLab Notebook, it may mean\n",
       "  that the widgets JavaScript is still loading. If this message persists, it\n",
       "  likely means that the widgets JavaScript library is either not installed or\n",
       "  not enabled. See the <a href=\"https://ipywidgets.readthedocs.io/en/stable/user_install.html\">Jupyter\n",
       "  Widgets Documentation</a> for setup instructions.\n",
       "</p>\n",
       "<p>\n",
       "  If you're reading this message in another frontend (for example, a static\n",
       "  rendering on GitHub or <a href=\"https://nbviewer.jupyter.org/\">NBViewer</a>),\n",
       "  it may mean that your frontend doesn't currently support widgets.\n",
       "</p>\n"
      ],
      "text/plain": [
       "HBox(children=(IntProgress(value=0, max=8), HTML(value='')))"
      ]
     },
     "metadata": {},
     "output_type": "display_data"
    },
    {
     "name": "stdout",
     "output_type": "stream",
     "text": [
      "\n"
     ]
    }
   ],
   "source": [
    "tone_data = []\n",
    "for filename, sentences in tqdm(mda_sen_and_token_dict.items()):\n",
    "    pos_words, neg_words, num_words = 0, 0, 0\n",
    "    \n",
    "    for sentence in sentences:\n",
    "        num_words += len(sentence)\n",
    "        \n",
    "        for neg_word in negative_words:\n",
    "            neg_words += sentence.count(neg_word)\n",
    "            \n",
    "        for pos_word in positive_words:\n",
    "            pos_words += sentence.count(pos_word)\n",
    "            \n",
    "    tone_data.append([filename, pos_words, neg_words, num_words])"
   ]
  },
  {
   "cell_type": "code",
   "execution_count": 110,
   "metadata": {},
   "outputs": [
    {
     "data": {
      "text/html": [
       "<div>\n",
       "<style scoped>\n",
       "    .dataframe tbody tr th:only-of-type {\n",
       "        vertical-align: middle;\n",
       "    }\n",
       "\n",
       "    .dataframe tbody tr th {\n",
       "        vertical-align: top;\n",
       "    }\n",
       "\n",
       "    .dataframe thead th {\n",
       "        text-align: right;\n",
       "    }\n",
       "</style>\n",
       "<table border=\"1\" class=\"dataframe\">\n",
       "  <thead>\n",
       "    <tr style=\"text-align: right;\">\n",
       "      <th></th>\n",
       "      <th>filename</th>\n",
       "      <th>pos_words</th>\n",
       "      <th>neg_words</th>\n",
       "      <th>num_words</th>\n",
       "    </tr>\n",
       "  </thead>\n",
       "  <tbody>\n",
       "    <tr>\n",
       "      <th>0</th>\n",
       "      <td>edgar/data/1318605/0001193125-11-054847.txt</td>\n",
       "      <td>78</td>\n",
       "      <td>128</td>\n",
       "      <td>19838</td>\n",
       "    </tr>\n",
       "    <tr>\n",
       "      <th>1</th>\n",
       "      <td>edgar/data/1318605/0001193125-12-081990.txt</td>\n",
       "      <td>57</td>\n",
       "      <td>107</td>\n",
       "      <td>19417</td>\n",
       "    </tr>\n",
       "    <tr>\n",
       "      <th>2</th>\n",
       "      <td>edgar/data/1318605/0001193125-13-096241.txt</td>\n",
       "      <td>71</td>\n",
       "      <td>114</td>\n",
       "      <td>17851</td>\n",
       "    </tr>\n",
       "    <tr>\n",
       "      <th>3</th>\n",
       "      <td>edgar/data/1318605/0001193125-14-069681.txt</td>\n",
       "      <td>74</td>\n",
       "      <td>94</td>\n",
       "      <td>16658</td>\n",
       "    </tr>\n",
       "    <tr>\n",
       "      <th>4</th>\n",
       "      <td>edgar/data/1318605/0001564590-15-001031.txt</td>\n",
       "      <td>61</td>\n",
       "      <td>67</td>\n",
       "      <td>10962</td>\n",
       "    </tr>\n",
       "  </tbody>\n",
       "</table>\n",
       "</div>"
      ],
      "text/plain": [
       "                                      filename  pos_words  neg_words  \\\n",
       "0  edgar/data/1318605/0001193125-11-054847.txt         78        128   \n",
       "1  edgar/data/1318605/0001193125-12-081990.txt         57        107   \n",
       "2  edgar/data/1318605/0001193125-13-096241.txt         71        114   \n",
       "3  edgar/data/1318605/0001193125-14-069681.txt         74         94   \n",
       "4  edgar/data/1318605/0001564590-15-001031.txt         61         67   \n",
       "\n",
       "   num_words  \n",
       "0      19838  \n",
       "1      19417  \n",
       "2      17851  \n",
       "3      16658  \n",
       "4      10962  "
      ]
     },
     "execution_count": 110,
     "metadata": {},
     "output_type": "execute_result"
    }
   ],
   "source": [
    "mda_tone_df = pd.DataFrame(tone_data, columns = ['filename', 'pos_words', 'neg_words', 'num_words'])\n",
    "mda_tone_df.head()"
   ]
  },
  {
   "cell_type": "code",
   "execution_count": 111,
   "metadata": {},
   "outputs": [
    {
     "data": {
      "text/html": [
       "<div>\n",
       "<style scoped>\n",
       "    .dataframe tbody tr th:only-of-type {\n",
       "        vertical-align: middle;\n",
       "    }\n",
       "\n",
       "    .dataframe tbody tr th {\n",
       "        vertical-align: top;\n",
       "    }\n",
       "\n",
       "    .dataframe thead th {\n",
       "        text-align: right;\n",
       "    }\n",
       "</style>\n",
       "<table border=\"1\" class=\"dataframe\">\n",
       "  <thead>\n",
       "    <tr style=\"text-align: right;\">\n",
       "      <th></th>\n",
       "      <th>filename</th>\n",
       "      <th>pos_words</th>\n",
       "      <th>neg_words</th>\n",
       "      <th>num_words</th>\n",
       "      <th>tone_score</th>\n",
       "    </tr>\n",
       "  </thead>\n",
       "  <tbody>\n",
       "    <tr>\n",
       "      <th>0</th>\n",
       "      <td>edgar/data/1318605/0001193125-11-054847.txt</td>\n",
       "      <td>78</td>\n",
       "      <td>128</td>\n",
       "      <td>19838</td>\n",
       "      <td>-0.002520</td>\n",
       "    </tr>\n",
       "    <tr>\n",
       "      <th>1</th>\n",
       "      <td>edgar/data/1318605/0001193125-12-081990.txt</td>\n",
       "      <td>57</td>\n",
       "      <td>107</td>\n",
       "      <td>19417</td>\n",
       "      <td>-0.002575</td>\n",
       "    </tr>\n",
       "    <tr>\n",
       "      <th>2</th>\n",
       "      <td>edgar/data/1318605/0001193125-13-096241.txt</td>\n",
       "      <td>71</td>\n",
       "      <td>114</td>\n",
       "      <td>17851</td>\n",
       "      <td>-0.002409</td>\n",
       "    </tr>\n",
       "    <tr>\n",
       "      <th>3</th>\n",
       "      <td>edgar/data/1318605/0001193125-14-069681.txt</td>\n",
       "      <td>74</td>\n",
       "      <td>94</td>\n",
       "      <td>16658</td>\n",
       "      <td>-0.001201</td>\n",
       "    </tr>\n",
       "    <tr>\n",
       "      <th>4</th>\n",
       "      <td>edgar/data/1318605/0001564590-15-001031.txt</td>\n",
       "      <td>61</td>\n",
       "      <td>67</td>\n",
       "      <td>10962</td>\n",
       "      <td>-0.000547</td>\n",
       "    </tr>\n",
       "    <tr>\n",
       "      <th>5</th>\n",
       "      <td>edgar/data/1318605/0001564590-16-013195.txt</td>\n",
       "      <td>52</td>\n",
       "      <td>66</td>\n",
       "      <td>10589</td>\n",
       "      <td>-0.001322</td>\n",
       "    </tr>\n",
       "    <tr>\n",
       "      <th>6</th>\n",
       "      <td>edgar/data/1318605/0001564590-17-003118.txt</td>\n",
       "      <td>65</td>\n",
       "      <td>83</td>\n",
       "      <td>14361</td>\n",
       "      <td>-0.001253</td>\n",
       "    </tr>\n",
       "    <tr>\n",
       "      <th>7</th>\n",
       "      <td>edgar/data/1318605/0001564590-18-002956.txt</td>\n",
       "      <td>83</td>\n",
       "      <td>71</td>\n",
       "      <td>14310</td>\n",
       "      <td>0.000839</td>\n",
       "    </tr>\n",
       "  </tbody>\n",
       "</table>\n",
       "</div>"
      ],
      "text/plain": [
       "                                      filename  pos_words  neg_words  \\\n",
       "0  edgar/data/1318605/0001193125-11-054847.txt         78        128   \n",
       "1  edgar/data/1318605/0001193125-12-081990.txt         57        107   \n",
       "2  edgar/data/1318605/0001193125-13-096241.txt         71        114   \n",
       "3  edgar/data/1318605/0001193125-14-069681.txt         74         94   \n",
       "4  edgar/data/1318605/0001564590-15-001031.txt         61         67   \n",
       "5  edgar/data/1318605/0001564590-16-013195.txt         52         66   \n",
       "6  edgar/data/1318605/0001564590-17-003118.txt         65         83   \n",
       "7  edgar/data/1318605/0001564590-18-002956.txt         83         71   \n",
       "\n",
       "   num_words  tone_score  \n",
       "0      19838   -0.002520  \n",
       "1      19417   -0.002575  \n",
       "2      17851   -0.002409  \n",
       "3      16658   -0.001201  \n",
       "4      10962   -0.000547  \n",
       "5      10589   -0.001322  \n",
       "6      14361   -0.001253  \n",
       "7      14310    0.000839  "
      ]
     },
     "execution_count": 111,
     "metadata": {},
     "output_type": "execute_result"
    }
   ],
   "source": [
    "mda_tone_df['tone_score'] = (mda_tone_df['pos_words'] - mda_tone_df['neg_words']) / mda_tone_df['num_words']\n",
    "mda_tone_df"
   ]
  },
  {
   "cell_type": "markdown",
   "metadata": {},
   "source": [
    "### 5b) Calculate tone based on Loughran and McDonald dictionary at the sentence level"
   ]
  },
  {
   "cell_type": "markdown",
   "metadata": {},
   "source": [
    "Calculate word counts at the sentence level"
   ]
  },
  {
   "cell_type": "code",
   "execution_count": 112,
   "metadata": {},
   "outputs": [
    {
     "data": {
      "application/vnd.jupyter.widget-view+json": {
       "model_id": "f8f38b890eb74d2ab8781b084342d08a",
       "version_major": 2,
       "version_minor": 0
      },
      "text/html": [
       "<p>Failed to display Jupyter Widget of type <code>HBox</code>.</p>\n",
       "<p>\n",
       "  If you're reading this message in the Jupyter Notebook or JupyterLab Notebook, it may mean\n",
       "  that the widgets JavaScript is still loading. If this message persists, it\n",
       "  likely means that the widgets JavaScript library is either not installed or\n",
       "  not enabled. See the <a href=\"https://ipywidgets.readthedocs.io/en/stable/user_install.html\">Jupyter\n",
       "  Widgets Documentation</a> for setup instructions.\n",
       "</p>\n",
       "<p>\n",
       "  If you're reading this message in another frontend (for example, a static\n",
       "  rendering on GitHub or <a href=\"https://nbviewer.jupyter.org/\">NBViewer</a>),\n",
       "  it may mean that your frontend doesn't currently support widgets.\n",
       "</p>\n"
      ],
      "text/plain": [
       "HBox(children=(IntProgress(value=0, max=8), HTML(value='')))"
      ]
     },
     "metadata": {},
     "output_type": "display_data"
    },
    {
     "name": "stdout",
     "output_type": "stream",
     "text": [
      "\n"
     ]
    }
   ],
   "source": [
    "tone_data_sen = []\n",
    "for filename, sentences in tqdm(mda_sen_and_token_dict.items()):\n",
    "    pos_words, neg_words, num_words = 0, 0, 0\n",
    "    \n",
    "    for i, sentence in enumerate(sentences):\n",
    "        pos_words, neg_words, num_words = 0, 0, len(sentence)\n",
    "        \n",
    "        for neg_word in negative_words:\n",
    "            neg_words += sentence.count(neg_word)\n",
    "            \n",
    "        for pos_word in positive_words:\n",
    "            pos_words += sentence.count(pos_word)\n",
    "            \n",
    "        tone_data_sen.append([filename, i, pos_words, neg_words, num_words])"
   ]
  },
  {
   "cell_type": "markdown",
   "metadata": {},
   "source": [
    "Convert to Pandas DataFrame"
   ]
  },
  {
   "cell_type": "code",
   "execution_count": 113,
   "metadata": {},
   "outputs": [
    {
     "data": {
      "text/html": [
       "<div>\n",
       "<style scoped>\n",
       "    .dataframe tbody tr th:only-of-type {\n",
       "        vertical-align: middle;\n",
       "    }\n",
       "\n",
       "    .dataframe tbody tr th {\n",
       "        vertical-align: top;\n",
       "    }\n",
       "\n",
       "    .dataframe thead th {\n",
       "        text-align: right;\n",
       "    }\n",
       "</style>\n",
       "<table border=\"1\" class=\"dataframe\">\n",
       "  <thead>\n",
       "    <tr style=\"text-align: right;\">\n",
       "      <th></th>\n",
       "      <th>filename</th>\n",
       "      <th>sentence</th>\n",
       "      <th>pos_words</th>\n",
       "      <th>neg_words</th>\n",
       "      <th>num_words</th>\n",
       "    </tr>\n",
       "  </thead>\n",
       "  <tbody>\n",
       "    <tr>\n",
       "      <th>0</th>\n",
       "      <td>edgar/data/1318605/0001193125-11-054847.txt</td>\n",
       "      <td>0</td>\n",
       "      <td>0</td>\n",
       "      <td>0</td>\n",
       "      <td>3</td>\n",
       "    </tr>\n",
       "    <tr>\n",
       "      <th>1</th>\n",
       "      <td>edgar/data/1318605/0001193125-11-054847.txt</td>\n",
       "      <td>1</td>\n",
       "      <td>0</td>\n",
       "      <td>0</td>\n",
       "      <td>11</td>\n",
       "    </tr>\n",
       "    <tr>\n",
       "      <th>2</th>\n",
       "      <td>edgar/data/1318605/0001193125-11-054847.txt</td>\n",
       "      <td>2</td>\n",
       "      <td>0</td>\n",
       "      <td>0</td>\n",
       "      <td>29</td>\n",
       "    </tr>\n",
       "    <tr>\n",
       "      <th>3</th>\n",
       "      <td>edgar/data/1318605/0001193125-11-054847.txt</td>\n",
       "      <td>3</td>\n",
       "      <td>0</td>\n",
       "      <td>0</td>\n",
       "      <td>17</td>\n",
       "    </tr>\n",
       "    <tr>\n",
       "      <th>4</th>\n",
       "      <td>edgar/data/1318605/0001193125-11-054847.txt</td>\n",
       "      <td>4</td>\n",
       "      <td>1</td>\n",
       "      <td>0</td>\n",
       "      <td>60</td>\n",
       "    </tr>\n",
       "  </tbody>\n",
       "</table>\n",
       "</div>"
      ],
      "text/plain": [
       "                                      filename  sentence  pos_words  \\\n",
       "0  edgar/data/1318605/0001193125-11-054847.txt         0          0   \n",
       "1  edgar/data/1318605/0001193125-11-054847.txt         1          0   \n",
       "2  edgar/data/1318605/0001193125-11-054847.txt         2          0   \n",
       "3  edgar/data/1318605/0001193125-11-054847.txt         3          0   \n",
       "4  edgar/data/1318605/0001193125-11-054847.txt         4          1   \n",
       "\n",
       "   neg_words  num_words  \n",
       "0          0          3  \n",
       "1          0         11  \n",
       "2          0         29  \n",
       "3          0         17  \n",
       "4          0         60  "
      ]
     },
     "execution_count": 113,
     "metadata": {},
     "output_type": "execute_result"
    }
   ],
   "source": [
    "mda_sen_tone_df = pd.DataFrame(tone_data_sen, columns = ['filename', 'sentence', 'pos_words', 'neg_words', 'num_words'])\n",
    "mda_sen_tone_df.head()"
   ]
  },
  {
   "cell_type": "markdown",
   "metadata": {},
   "source": [
    "Calculate sentence level tone score"
   ]
  },
  {
   "cell_type": "code",
   "execution_count": 114,
   "metadata": {},
   "outputs": [
    {
     "data": {
      "text/html": [
       "<div>\n",
       "<style scoped>\n",
       "    .dataframe tbody tr th:only-of-type {\n",
       "        vertical-align: middle;\n",
       "    }\n",
       "\n",
       "    .dataframe tbody tr th {\n",
       "        vertical-align: top;\n",
       "    }\n",
       "\n",
       "    .dataframe thead th {\n",
       "        text-align: right;\n",
       "    }\n",
       "</style>\n",
       "<table border=\"1\" class=\"dataframe\">\n",
       "  <thead>\n",
       "    <tr style=\"text-align: right;\">\n",
       "      <th></th>\n",
       "      <th>filename</th>\n",
       "      <th>sentence</th>\n",
       "      <th>pos_words</th>\n",
       "      <th>neg_words</th>\n",
       "      <th>num_words</th>\n",
       "      <th>tone_score</th>\n",
       "    </tr>\n",
       "  </thead>\n",
       "  <tbody>\n",
       "    <tr>\n",
       "      <th>0</th>\n",
       "      <td>edgar/data/1318605/0001193125-11-054847.txt</td>\n",
       "      <td>0</td>\n",
       "      <td>0</td>\n",
       "      <td>0</td>\n",
       "      <td>3</td>\n",
       "      <td>0.000000</td>\n",
       "    </tr>\n",
       "    <tr>\n",
       "      <th>1</th>\n",
       "      <td>edgar/data/1318605/0001193125-11-054847.txt</td>\n",
       "      <td>1</td>\n",
       "      <td>0</td>\n",
       "      <td>0</td>\n",
       "      <td>11</td>\n",
       "      <td>0.000000</td>\n",
       "    </tr>\n",
       "    <tr>\n",
       "      <th>2</th>\n",
       "      <td>edgar/data/1318605/0001193125-11-054847.txt</td>\n",
       "      <td>2</td>\n",
       "      <td>0</td>\n",
       "      <td>0</td>\n",
       "      <td>29</td>\n",
       "      <td>0.000000</td>\n",
       "    </tr>\n",
       "    <tr>\n",
       "      <th>3</th>\n",
       "      <td>edgar/data/1318605/0001193125-11-054847.txt</td>\n",
       "      <td>3</td>\n",
       "      <td>0</td>\n",
       "      <td>0</td>\n",
       "      <td>17</td>\n",
       "      <td>0.000000</td>\n",
       "    </tr>\n",
       "    <tr>\n",
       "      <th>4</th>\n",
       "      <td>edgar/data/1318605/0001193125-11-054847.txt</td>\n",
       "      <td>4</td>\n",
       "      <td>1</td>\n",
       "      <td>0</td>\n",
       "      <td>60</td>\n",
       "      <td>0.016667</td>\n",
       "    </tr>\n",
       "  </tbody>\n",
       "</table>\n",
       "</div>"
      ],
      "text/plain": [
       "                                      filename  sentence  pos_words  \\\n",
       "0  edgar/data/1318605/0001193125-11-054847.txt         0          0   \n",
       "1  edgar/data/1318605/0001193125-11-054847.txt         1          0   \n",
       "2  edgar/data/1318605/0001193125-11-054847.txt         2          0   \n",
       "3  edgar/data/1318605/0001193125-11-054847.txt         3          0   \n",
       "4  edgar/data/1318605/0001193125-11-054847.txt         4          1   \n",
       "\n",
       "   neg_words  num_words  tone_score  \n",
       "0          0          3    0.000000  \n",
       "1          0         11    0.000000  \n",
       "2          0         29    0.000000  \n",
       "3          0         17    0.000000  \n",
       "4          0         60    0.016667  "
      ]
     },
     "execution_count": 114,
     "metadata": {},
     "output_type": "execute_result"
    }
   ],
   "source": [
    "mda_sen_tone_df['tone_score'] = (mda_sen_tone_df['pos_words'] - mda_sen_tone_df['neg_words']) / mda_sen_tone_df['num_words']\n",
    "mda_sen_tone_df.head()"
   ]
  },
  {
   "cell_type": "markdown",
   "metadata": {},
   "source": [
    "Create indicator whether sentence is positive, negative, or neutral"
   ]
  },
  {
   "cell_type": "code",
   "execution_count": 115,
   "metadata": {},
   "outputs": [],
   "source": [
    "def classify_sentence(tone_score):\n",
    "    if tone_score > 0:\n",
    "        return 'pos'\n",
    "    elif tone_score < 0:\n",
    "        return 'neg'\n",
    "    else:\n",
    "        return 'neut'"
   ]
  },
  {
   "cell_type": "code",
   "execution_count": 116,
   "metadata": {},
   "outputs": [
    {
     "data": {
      "text/html": [
       "<div>\n",
       "<style scoped>\n",
       "    .dataframe tbody tr th:only-of-type {\n",
       "        vertical-align: middle;\n",
       "    }\n",
       "\n",
       "    .dataframe tbody tr th {\n",
       "        vertical-align: top;\n",
       "    }\n",
       "\n",
       "    .dataframe thead th {\n",
       "        text-align: right;\n",
       "    }\n",
       "</style>\n",
       "<table border=\"1\" class=\"dataframe\">\n",
       "  <thead>\n",
       "    <tr style=\"text-align: right;\">\n",
       "      <th></th>\n",
       "      <th>filename</th>\n",
       "      <th>sentence</th>\n",
       "      <th>pos_words</th>\n",
       "      <th>neg_words</th>\n",
       "      <th>num_words</th>\n",
       "      <th>tone_score</th>\n",
       "      <th>tone</th>\n",
       "    </tr>\n",
       "  </thead>\n",
       "  <tbody>\n",
       "    <tr>\n",
       "      <th>2656</th>\n",
       "      <td>edgar/data/1318605/0001564590-16-013195.txt</td>\n",
       "      <td>191</td>\n",
       "      <td>0</td>\n",
       "      <td>0</td>\n",
       "      <td>31</td>\n",
       "      <td>0.000000</td>\n",
       "      <td>neut</td>\n",
       "    </tr>\n",
       "    <tr>\n",
       "      <th>809</th>\n",
       "      <td>edgar/data/1318605/0001193125-12-081990.txt</td>\n",
       "      <td>220</td>\n",
       "      <td>0</td>\n",
       "      <td>0</td>\n",
       "      <td>7</td>\n",
       "      <td>0.000000</td>\n",
       "      <td>neut</td>\n",
       "    </tr>\n",
       "    <tr>\n",
       "      <th>2198</th>\n",
       "      <td>edgar/data/1318605/0001564590-15-001031.txt</td>\n",
       "      <td>84</td>\n",
       "      <td>0</td>\n",
       "      <td>0</td>\n",
       "      <td>28</td>\n",
       "      <td>0.000000</td>\n",
       "      <td>neut</td>\n",
       "    </tr>\n",
       "    <tr>\n",
       "      <th>1559</th>\n",
       "      <td>edgar/data/1318605/0001193125-13-096241.txt</td>\n",
       "      <td>419</td>\n",
       "      <td>0</td>\n",
       "      <td>3</td>\n",
       "      <td>55</td>\n",
       "      <td>-0.054545</td>\n",
       "      <td>neg</td>\n",
       "    </tr>\n",
       "    <tr>\n",
       "      <th>2837</th>\n",
       "      <td>edgar/data/1318605/0001564590-17-003118.txt</td>\n",
       "      <td>31</td>\n",
       "      <td>0</td>\n",
       "      <td>0</td>\n",
       "      <td>20</td>\n",
       "      <td>0.000000</td>\n",
       "      <td>neut</td>\n",
       "    </tr>\n",
       "    <tr>\n",
       "      <th>140</th>\n",
       "      <td>edgar/data/1318605/0001193125-11-054847.txt</td>\n",
       "      <td>140</td>\n",
       "      <td>0</td>\n",
       "      <td>0</td>\n",
       "      <td>34</td>\n",
       "      <td>0.000000</td>\n",
       "      <td>neut</td>\n",
       "    </tr>\n",
       "    <tr>\n",
       "      <th>669</th>\n",
       "      <td>edgar/data/1318605/0001193125-12-081990.txt</td>\n",
       "      <td>80</td>\n",
       "      <td>0</td>\n",
       "      <td>0</td>\n",
       "      <td>33</td>\n",
       "      <td>0.000000</td>\n",
       "      <td>neut</td>\n",
       "    </tr>\n",
       "    <tr>\n",
       "      <th>733</th>\n",
       "      <td>edgar/data/1318605/0001193125-12-081990.txt</td>\n",
       "      <td>144</td>\n",
       "      <td>0</td>\n",
       "      <td>0</td>\n",
       "      <td>21</td>\n",
       "      <td>0.000000</td>\n",
       "      <td>neut</td>\n",
       "    </tr>\n",
       "    <tr>\n",
       "      <th>3346</th>\n",
       "      <td>edgar/data/1318605/0001564590-18-002956.txt</td>\n",
       "      <td>80</td>\n",
       "      <td>0</td>\n",
       "      <td>0</td>\n",
       "      <td>18</td>\n",
       "      <td>0.000000</td>\n",
       "      <td>neut</td>\n",
       "    </tr>\n",
       "    <tr>\n",
       "      <th>2670</th>\n",
       "      <td>edgar/data/1318605/0001564590-16-013195.txt</td>\n",
       "      <td>205</td>\n",
       "      <td>0</td>\n",
       "      <td>1</td>\n",
       "      <td>33</td>\n",
       "      <td>-0.030303</td>\n",
       "      <td>neg</td>\n",
       "    </tr>\n",
       "  </tbody>\n",
       "</table>\n",
       "</div>"
      ],
      "text/plain": [
       "                                         filename  sentence  pos_words  \\\n",
       "2656  edgar/data/1318605/0001564590-16-013195.txt       191          0   \n",
       "809   edgar/data/1318605/0001193125-12-081990.txt       220          0   \n",
       "2198  edgar/data/1318605/0001564590-15-001031.txt        84          0   \n",
       "1559  edgar/data/1318605/0001193125-13-096241.txt       419          0   \n",
       "2837  edgar/data/1318605/0001564590-17-003118.txt        31          0   \n",
       "140   edgar/data/1318605/0001193125-11-054847.txt       140          0   \n",
       "669   edgar/data/1318605/0001193125-12-081990.txt        80          0   \n",
       "733   edgar/data/1318605/0001193125-12-081990.txt       144          0   \n",
       "3346  edgar/data/1318605/0001564590-18-002956.txt        80          0   \n",
       "2670  edgar/data/1318605/0001564590-16-013195.txt       205          0   \n",
       "\n",
       "      neg_words  num_words  tone_score  tone  \n",
       "2656          0         31    0.000000  neut  \n",
       "809           0          7    0.000000  neut  \n",
       "2198          0         28    0.000000  neut  \n",
       "1559          3         55   -0.054545   neg  \n",
       "2837          0         20    0.000000  neut  \n",
       "140           0         34    0.000000  neut  \n",
       "669           0         33    0.000000  neut  \n",
       "733           0         21    0.000000  neut  \n",
       "3346          0         18    0.000000  neut  \n",
       "2670          1         33   -0.030303   neg  "
      ]
     },
     "execution_count": 116,
     "metadata": {},
     "output_type": "execute_result"
    }
   ],
   "source": [
    "mda_sen_tone_df['tone'] = mda_sen_tone_df.tone_score.apply(classify_sentence)\n",
    "mda_sen_tone_df.sample(10)"
   ]
  },
  {
   "cell_type": "markdown",
   "metadata": {},
   "source": [
    "Calculate per MD&A how many positive, negative, and neutral"
   ]
  },
  {
   "cell_type": "code",
   "execution_count": 117,
   "metadata": {},
   "outputs": [
    {
     "data": {
      "text/html": [
       "<div>\n",
       "<style scoped>\n",
       "    .dataframe tbody tr th:only-of-type {\n",
       "        vertical-align: middle;\n",
       "    }\n",
       "\n",
       "    .dataframe tbody tr th {\n",
       "        vertical-align: top;\n",
       "    }\n",
       "\n",
       "    .dataframe thead th {\n",
       "        text-align: right;\n",
       "    }\n",
       "</style>\n",
       "<table border=\"1\" class=\"dataframe\">\n",
       "  <thead>\n",
       "    <tr style=\"text-align: right;\">\n",
       "      <th>tone</th>\n",
       "      <th>filename</th>\n",
       "      <th>neg</th>\n",
       "      <th>neut</th>\n",
       "      <th>pos</th>\n",
       "      <th>sen_tone_score</th>\n",
       "    </tr>\n",
       "  </thead>\n",
       "  <tbody>\n",
       "    <tr>\n",
       "      <th>0</th>\n",
       "      <td>edgar/data/1318605/0001193125-11-054847.txt</td>\n",
       "      <td>82</td>\n",
       "      <td>461</td>\n",
       "      <td>46</td>\n",
       "      <td>-0.078091</td>\n",
       "    </tr>\n",
       "    <tr>\n",
       "      <th>1</th>\n",
       "      <td>edgar/data/1318605/0001193125-12-081990.txt</td>\n",
       "      <td>76</td>\n",
       "      <td>435</td>\n",
       "      <td>40</td>\n",
       "      <td>-0.082759</td>\n",
       "    </tr>\n",
       "    <tr>\n",
       "      <th>2</th>\n",
       "      <td>edgar/data/1318605/0001193125-13-096241.txt</td>\n",
       "      <td>79</td>\n",
       "      <td>378</td>\n",
       "      <td>46</td>\n",
       "      <td>-0.087302</td>\n",
       "    </tr>\n",
       "    <tr>\n",
       "      <th>3</th>\n",
       "      <td>edgar/data/1318605/0001193125-14-069681.txt</td>\n",
       "      <td>63</td>\n",
       "      <td>358</td>\n",
       "      <td>50</td>\n",
       "      <td>-0.036313</td>\n",
       "    </tr>\n",
       "    <tr>\n",
       "      <th>4</th>\n",
       "      <td>edgar/data/1318605/0001564590-15-001031.txt</td>\n",
       "      <td>42</td>\n",
       "      <td>274</td>\n",
       "      <td>35</td>\n",
       "      <td>-0.025547</td>\n",
       "    </tr>\n",
       "    <tr>\n",
       "      <th>5</th>\n",
       "      <td>edgar/data/1318605/0001564590-16-013195.txt</td>\n",
       "      <td>42</td>\n",
       "      <td>273</td>\n",
       "      <td>26</td>\n",
       "      <td>-0.058608</td>\n",
       "    </tr>\n",
       "    <tr>\n",
       "      <th>6</th>\n",
       "      <td>edgar/data/1318605/0001564590-17-003118.txt</td>\n",
       "      <td>52</td>\n",
       "      <td>369</td>\n",
       "      <td>39</td>\n",
       "      <td>-0.035230</td>\n",
       "    </tr>\n",
       "    <tr>\n",
       "      <th>7</th>\n",
       "      <td>edgar/data/1318605/0001564590-18-002956.txt</td>\n",
       "      <td>46</td>\n",
       "      <td>382</td>\n",
       "      <td>48</td>\n",
       "      <td>0.005236</td>\n",
       "    </tr>\n",
       "  </tbody>\n",
       "</table>\n",
       "</div>"
      ],
      "text/plain": [
       "tone                                     filename  neg  neut  pos  \\\n",
       "0     edgar/data/1318605/0001193125-11-054847.txt   82   461   46   \n",
       "1     edgar/data/1318605/0001193125-12-081990.txt   76   435   40   \n",
       "2     edgar/data/1318605/0001193125-13-096241.txt   79   378   46   \n",
       "3     edgar/data/1318605/0001193125-14-069681.txt   63   358   50   \n",
       "4     edgar/data/1318605/0001564590-15-001031.txt   42   274   35   \n",
       "5     edgar/data/1318605/0001564590-16-013195.txt   42   273   26   \n",
       "6     edgar/data/1318605/0001564590-17-003118.txt   52   369   39   \n",
       "7     edgar/data/1318605/0001564590-18-002956.txt   46   382   48   \n",
       "\n",
       "tone  sen_tone_score  \n",
       "0          -0.078091  \n",
       "1          -0.082759  \n",
       "2          -0.087302  \n",
       "3          -0.036313  \n",
       "4          -0.025547  \n",
       "5          -0.058608  \n",
       "6          -0.035230  \n",
       "7           0.005236  "
      ]
     },
     "execution_count": 117,
     "metadata": {},
     "output_type": "execute_result"
    }
   ],
   "source": [
    "mda_tone_counts = pd.pivot_table(mda_sen_tone_df, columns='tone', index='filename', aggfunc='count')['tone_score'].reset_index()\n",
    "mda_tone_counts['sen_tone_score'] = (mda_tone_counts['pos'] - mda_tone_counts['neg']) / mda_tone_counts['neut']\n",
    "mda_tone_counts"
   ]
  },
  {
   "cell_type": "markdown",
   "metadata": {},
   "source": [
    "### 5c) Graph both tone scores over time"
   ]
  },
  {
   "cell_type": "markdown",
   "metadata": {},
   "source": [
    "Combine both scores"
   ]
  },
  {
   "cell_type": "code",
   "execution_count": 118,
   "metadata": {},
   "outputs": [
    {
     "data": {
      "text/html": [
       "<div>\n",
       "<style scoped>\n",
       "    .dataframe tbody tr th:only-of-type {\n",
       "        vertical-align: middle;\n",
       "    }\n",
       "\n",
       "    .dataframe tbody tr th {\n",
       "        vertical-align: top;\n",
       "    }\n",
       "\n",
       "    .dataframe thead th {\n",
       "        text-align: right;\n",
       "    }\n",
       "</style>\n",
       "<table border=\"1\" class=\"dataframe\">\n",
       "  <thead>\n",
       "    <tr style=\"text-align: right;\">\n",
       "      <th></th>\n",
       "      <th>filename</th>\n",
       "      <th>tone_score</th>\n",
       "      <th>sen_tone_score</th>\n",
       "    </tr>\n",
       "  </thead>\n",
       "  <tbody>\n",
       "    <tr>\n",
       "      <th>0</th>\n",
       "      <td>edgar/data/1318605/0001193125-11-054847.txt</td>\n",
       "      <td>-0.002520</td>\n",
       "      <td>-0.078091</td>\n",
       "    </tr>\n",
       "    <tr>\n",
       "      <th>1</th>\n",
       "      <td>edgar/data/1318605/0001193125-12-081990.txt</td>\n",
       "      <td>-0.002575</td>\n",
       "      <td>-0.082759</td>\n",
       "    </tr>\n",
       "    <tr>\n",
       "      <th>2</th>\n",
       "      <td>edgar/data/1318605/0001193125-13-096241.txt</td>\n",
       "      <td>-0.002409</td>\n",
       "      <td>-0.087302</td>\n",
       "    </tr>\n",
       "  </tbody>\n",
       "</table>\n",
       "</div>"
      ],
      "text/plain": [
       "                                      filename  tone_score  sen_tone_score\n",
       "0  edgar/data/1318605/0001193125-11-054847.txt   -0.002520       -0.078091\n",
       "1  edgar/data/1318605/0001193125-12-081990.txt   -0.002575       -0.082759\n",
       "2  edgar/data/1318605/0001193125-13-096241.txt   -0.002409       -0.087302"
      ]
     },
     "execution_count": 118,
     "metadata": {},
     "output_type": "execute_result"
    }
   ],
   "source": [
    "mda_scores_df = pd.merge(mda_tone_df[['filename', 'tone_score']], mda_tone_counts[['filename', 'sen_tone_score']], how='left', on='filename')\n",
    "mda_scores_df.head(3)"
   ]
  },
  {
   "cell_type": "markdown",
   "metadata": {},
   "source": [
    "Add year of each filing"
   ]
  },
  {
   "cell_type": "code",
   "execution_count": 119,
   "metadata": {},
   "outputs": [],
   "source": [
    "mda_scores_df = pd.merge(mda_scores_df, tesla_10k_df[['fname', 'fdate']].rename(columns={'fname' : 'filename'}), how='left', on='filename')\n",
    "mda_scores_df['fdate'] = pd.to_datetime(mda_scores_df['fdate'])\n",
    "mda_scores_df['year'] = mda_scores_df['fdate'].dt.year"
   ]
  },
  {
   "cell_type": "code",
   "execution_count": 120,
   "metadata": {},
   "outputs": [
    {
     "data": {
      "text/html": [
       "<div>\n",
       "<style scoped>\n",
       "    .dataframe tbody tr th:only-of-type {\n",
       "        vertical-align: middle;\n",
       "    }\n",
       "\n",
       "    .dataframe tbody tr th {\n",
       "        vertical-align: top;\n",
       "    }\n",
       "\n",
       "    .dataframe thead th {\n",
       "        text-align: right;\n",
       "    }\n",
       "</style>\n",
       "<table border=\"1\" class=\"dataframe\">\n",
       "  <thead>\n",
       "    <tr style=\"text-align: right;\">\n",
       "      <th></th>\n",
       "      <th>filename</th>\n",
       "      <th>tone_score</th>\n",
       "      <th>sen_tone_score</th>\n",
       "      <th>fdate</th>\n",
       "      <th>year</th>\n",
       "    </tr>\n",
       "  </thead>\n",
       "  <tbody>\n",
       "    <tr>\n",
       "      <th>0</th>\n",
       "      <td>edgar/data/1318605/0001193125-11-054847.txt</td>\n",
       "      <td>-0.002520</td>\n",
       "      <td>-0.078091</td>\n",
       "      <td>2011-03-03</td>\n",
       "      <td>2011</td>\n",
       "    </tr>\n",
       "    <tr>\n",
       "      <th>1</th>\n",
       "      <td>edgar/data/1318605/0001193125-12-081990.txt</td>\n",
       "      <td>-0.002575</td>\n",
       "      <td>-0.082759</td>\n",
       "      <td>2012-02-27</td>\n",
       "      <td>2012</td>\n",
       "    </tr>\n",
       "    <tr>\n",
       "      <th>2</th>\n",
       "      <td>edgar/data/1318605/0001193125-13-096241.txt</td>\n",
       "      <td>-0.002409</td>\n",
       "      <td>-0.087302</td>\n",
       "      <td>2013-03-07</td>\n",
       "      <td>2013</td>\n",
       "    </tr>\n",
       "    <tr>\n",
       "      <th>3</th>\n",
       "      <td>edgar/data/1318605/0001193125-14-069681.txt</td>\n",
       "      <td>-0.001201</td>\n",
       "      <td>-0.036313</td>\n",
       "      <td>2014-02-26</td>\n",
       "      <td>2014</td>\n",
       "    </tr>\n",
       "    <tr>\n",
       "      <th>4</th>\n",
       "      <td>edgar/data/1318605/0001564590-15-001031.txt</td>\n",
       "      <td>-0.000547</td>\n",
       "      <td>-0.025547</td>\n",
       "      <td>2015-02-26</td>\n",
       "      <td>2015</td>\n",
       "    </tr>\n",
       "    <tr>\n",
       "      <th>5</th>\n",
       "      <td>edgar/data/1318605/0001564590-16-013195.txt</td>\n",
       "      <td>-0.001322</td>\n",
       "      <td>-0.058608</td>\n",
       "      <td>2016-02-24</td>\n",
       "      <td>2016</td>\n",
       "    </tr>\n",
       "    <tr>\n",
       "      <th>6</th>\n",
       "      <td>edgar/data/1318605/0001564590-17-003118.txt</td>\n",
       "      <td>-0.001253</td>\n",
       "      <td>-0.035230</td>\n",
       "      <td>2017-03-01</td>\n",
       "      <td>2017</td>\n",
       "    </tr>\n",
       "    <tr>\n",
       "      <th>7</th>\n",
       "      <td>edgar/data/1318605/0001564590-18-002956.txt</td>\n",
       "      <td>0.000839</td>\n",
       "      <td>0.005236</td>\n",
       "      <td>2018-02-23</td>\n",
       "      <td>2018</td>\n",
       "    </tr>\n",
       "  </tbody>\n",
       "</table>\n",
       "</div>"
      ],
      "text/plain": [
       "                                      filename  tone_score  sen_tone_score  \\\n",
       "0  edgar/data/1318605/0001193125-11-054847.txt   -0.002520       -0.078091   \n",
       "1  edgar/data/1318605/0001193125-12-081990.txt   -0.002575       -0.082759   \n",
       "2  edgar/data/1318605/0001193125-13-096241.txt   -0.002409       -0.087302   \n",
       "3  edgar/data/1318605/0001193125-14-069681.txt   -0.001201       -0.036313   \n",
       "4  edgar/data/1318605/0001564590-15-001031.txt   -0.000547       -0.025547   \n",
       "5  edgar/data/1318605/0001564590-16-013195.txt   -0.001322       -0.058608   \n",
       "6  edgar/data/1318605/0001564590-17-003118.txt   -0.001253       -0.035230   \n",
       "7  edgar/data/1318605/0001564590-18-002956.txt    0.000839        0.005236   \n",
       "\n",
       "       fdate  year  \n",
       "0 2011-03-03  2011  \n",
       "1 2012-02-27  2012  \n",
       "2 2013-03-07  2013  \n",
       "3 2014-02-26  2014  \n",
       "4 2015-02-26  2015  \n",
       "5 2016-02-24  2016  \n",
       "6 2017-03-01  2017  \n",
       "7 2018-02-23  2018  "
      ]
     },
     "execution_count": 120,
     "metadata": {},
     "output_type": "execute_result"
    }
   ],
   "source": [
    "mda_scores_df"
   ]
  },
  {
   "cell_type": "markdown",
   "metadata": {},
   "source": [
    "Scale the `tone_score` to make it more comparable to `sen_tone_score`"
   ]
  },
  {
   "cell_type": "code",
   "execution_count": 121,
   "metadata": {},
   "outputs": [],
   "source": [
    "mda_scores_df['tone_score_scaled'] = mda_scores_df['tone_score'] * 30"
   ]
  },
  {
   "cell_type": "markdown",
   "metadata": {},
   "source": [
    "#### Plot"
   ]
  },
  {
   "cell_type": "code",
   "execution_count": 122,
   "metadata": {},
   "outputs": [
    {
     "data": {
      "text/plain": [
       "<matplotlib.axes._subplots.AxesSubplot at 0x24e36193048>"
      ]
     },
     "execution_count": 122,
     "metadata": {},
     "output_type": "execute_result"
    },
    {
     "data": {
      "image/png": "[encoded data removed]",
      "text/plain": [
       "<matplotlib.figure.Figure at 0x24e36193358>"
      ]
     },
     "metadata": {},
     "output_type": "display_data"
    }
   ],
   "source": [
    "mda_scores_df.set_index('year')[['tone_score_scaled', 'sen_tone_score']].plot(kind='bar', \n",
    "                                                                              figsize=(10,5),\n",
    "                                                                              title='Yearly tone scores for Tesla')"
   ]
  },
  {
   "cell_type": "markdown",
   "metadata": {},
   "source": [
    "### Plot changes"
   ]
  },
  {
   "cell_type": "code",
   "execution_count": 123,
   "metadata": {},
   "outputs": [],
   "source": [
    "mda_scores_df['sen_tone_score_lagged'] = mda_scores_df.sen_tone_score.shift(1)\n",
    "mda_scores_df['sen_tone_score_delta'] = mda_scores_df['sen_tone_score'] - mda_scores_df['sen_tone_score_lagged']"
   ]
  },
  {
   "cell_type": "code",
   "execution_count": 124,
   "metadata": {},
   "outputs": [
    {
     "data": {
      "text/plain": [
       "<matplotlib.axes._subplots.AxesSubplot at 0x24e57b81a58>"
      ]
     },
     "execution_count": 124,
     "metadata": {},
     "output_type": "execute_result"
    },
    {
     "data": {
      "image/png": "[encoded data removed]",
      "text/plain": [
       "<matplotlib.figure.Figure at 0x24e12e87438>"
      ]
     },
     "metadata": {},
     "output_type": "display_data"
    }
   ],
   "source": [
    "mda_scores_df.set_index('year')['sen_tone_score_delta'].plot(kind='bar', \n",
    "                                                             figsize=(10,5),\n",
    "                                                             title='Yearly tone score changes for Tesla')"
   ]
  }
 ],
 "metadata": {
  "colab": {
   "default_view": {},
   "name": "EDGAR_walkthrough.ipynb",
   "provenance": [],
   "version": "0.3.2",
   "views": {}
  },
  "kernelspec": {
   "display_name": "Python 3",
   "language": "python",
   "name": "python3"
  },
  "language_info": {
   "codemirror_mode": {
    "name": "ipython",
    "version": 3
   },
   "file_extension": ".py",
   "mimetype": "text/x-python",
   "name": "python",
   "nbconvert_exporter": "python",
   "pygments_lexer": "ipython3",
   "version": "3.6.4"
  }
 },
 "nbformat": 4,
 "nbformat_minor": 1
}
